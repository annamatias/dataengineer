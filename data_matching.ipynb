{
  "nbformat": 4,
  "nbformat_minor": 0,
  "metadata": {
    "colab": {
      "provenance": [],
      "toc_visible": true,
      "include_colab_link": true
    },
    "kernelspec": {
      "name": "python3",
      "display_name": "Python 3"
    }
  },
  "cells": [
    {
      "cell_type": "markdown",
      "metadata": {
        "id": "view-in-github",
        "colab_type": "text"
      },
      "source": [
        "<a href=\"https://colab.research.google.com/github/annamatias/dataengineer/blob/main/data_matching.ipynb\" target=\"_parent\"><img src=\"https://colab.research.google.com/assets/colab-badge.svg\" alt=\"Open In Colab\"/></a>"
      ]
    },
    {
      "cell_type": "markdown",
      "source": [
        "# FIAP - Bootcamp Data Engineering\n",
        "Anna Karoliny Matias dos Santos - RM355813\n",
        "\n",
        "## Motivação\n",
        "- Utilizei nesse arquivo ao invés de Pandas, uso o Pyspark, porque eu gosto de trabalhar com ele e acho mais fácil\n",
        "> **Tive alguns problemas ao realizar a leitura direto do link, portanto eu realizei o import do arquivo no meu drive, para utilização**\n",
        "\n"
      ],
      "metadata": {
        "id": "oLzcI9fmzglC"
      }
    },
    {
      "cell_type": "markdown",
      "metadata": {
        "id": "b0BumJeBDsHw"
      },
      "source": [
        "# Outras Informações\n",
        "\n",
        "*   cadastro.csv (dados de cadastro)\n",
        "*   dados_medicos.csv (registros médicos)\n",
        "\n",
        "Temos que unificar as duas bases e criar uma nova base agrupada\n",
        "\n",
        "Código localizado em https://github.com/renzoziegler/data_engineering_bootcamp\n",
        "*   Ler os arquivos CSV fornecidos\n",
        "** https://raw.githubusercontent.com/renzoziegler/data_engineering_bootcamp/main/cadastro.csv\n",
        "** https://raw.githubusercontent.com/renzoziegler/data_engineering_bootcamp/main/dados_medicos.csv\n",
        "*   Realizar uma análise exploratória dos dados\n"
      ]
    },
    {
      "cell_type": "markdown",
      "source": [
        "# Instalação Pyspark"
      ],
      "metadata": {
        "id": "Wvf9hKGwFWu_"
      }
    },
    {
      "cell_type": "code",
      "source": [
        "!apt-get update -qq\n",
        "!apt-get install openjdk-8-jdk-headless -qq > /dev/null\n",
        "!wget -q https://archive.apache.org/dist/spark/spark-3.1.2/spark-3.1.2-bin-hadoop2.7.tgz\n",
        "!tar xf spark-3.1.2-bin-hadoop2.7.tgz\n",
        "!pip install -q findspark\n",
        "!pip install -q pyspark==3.1.2 # Installing pyspark matching the Spark version\n",
        "\n",
        "import os\n",
        "os.environ[\"JAVA_HOME\"] = \"/usr/lib/jvm/java-8-openjdk-amd64\"\n",
        "os.environ[\"SPARK_HOME\"] = \"/content/spark-3.1.2-bin-hadoop2.7\"\n",
        "\n",
        "import findspark\n",
        "findspark.init()"
      ],
      "metadata": {
        "colab": {
          "base_uri": "https://localhost:8080/"
        },
        "id": "sKD7r9E2E2N0",
        "outputId": "eea4760b-250b-4a29-8938-3b2fe68fb3bf"
      },
      "execution_count": 1,
      "outputs": [
        {
          "output_type": "stream",
          "name": "stdout",
          "text": [
            "W: Skipping acquire of configured file 'main/source/Sources' as repository 'https://r2u.stat.illinois.edu/ubuntu jammy InRelease' does not seem to provide it (sources.list entry misspelt?)\n"
          ]
        }
      ]
    },
    {
      "cell_type": "code",
      "source": [
        "from pyspark.sql import SparkSession\n",
        "\n",
        "spark = SparkSession.builder\\\n",
        "  .master('local[*]')\\\n",
        "  .appName(\"bootcamp data eng\")\\\n",
        "  .getOrCreate()"
      ],
      "metadata": {
        "id": "mdjWw3sNIJYC"
      },
      "execution_count": 2,
      "outputs": []
    },
    {
      "cell_type": "markdown",
      "source": [
        "# Imports"
      ],
      "metadata": {
        "id": "8hsFtUjgYzNF"
      }
    },
    {
      "cell_type": "code",
      "source": [
        "from pyspark.sql.functions import *\n",
        "from pyspark.sql.types import *\n",
        "from pyspark.sql.functions import to_date\n",
        "from pyspark.sql.functions import date_format"
      ],
      "metadata": {
        "id": "cWRwGxI5ZhEr"
      },
      "execution_count": 3,
      "outputs": []
    },
    {
      "cell_type": "code",
      "execution_count": 4,
      "metadata": {
        "id": "LcnIYSGts92R",
        "colab": {
          "base_uri": "https://localhost:8080/"
        },
        "outputId": "dba580b9-97c7-4441-bcfe-b29f9a492c97"
      },
      "outputs": [
        {
          "output_type": "stream",
          "name": "stdout",
          "text": [
            "Requirement already satisfied: fuzzywuzzy in /usr/local/lib/python3.10/dist-packages (0.18.0)\n"
          ]
        },
        {
          "output_type": "stream",
          "name": "stderr",
          "text": [
            "/usr/local/lib/python3.10/dist-packages/fuzzywuzzy/fuzz.py:11: UserWarning: Using slow pure-python SequenceMatcher. Install python-Levenshtein to remove this warning\n",
            "  warnings.warn('Using slow pure-python SequenceMatcher. Install python-Levenshtein to remove this warning')\n"
          ]
        }
      ],
      "source": [
        "!pip install fuzzywuzzy\n",
        "import pandas as pd\n",
        "from fuzzywuzzy import fuzz"
      ]
    },
    {
      "cell_type": "markdown",
      "source": [
        "# Leitura de Dados"
      ],
      "metadata": {
        "id": "9tNFkG1XZCKa"
      }
    },
    {
      "cell_type": "markdown",
      "source": [
        "## Cadastro"
      ],
      "metadata": {
        "id": "q4SbiDL8ZHov"
      }
    },
    {
      "cell_type": "code",
      "source": [
        "df1 = spark.read.format(\"csv\").option(\"header\", \"true\").load(\"/content/sample_data/cadastro.csv\")"
      ],
      "metadata": {
        "id": "AkWPxpvoKqbd"
      },
      "execution_count": 5,
      "outputs": []
    },
    {
      "cell_type": "code",
      "source": [
        "df1.show(5, False)"
      ],
      "metadata": {
        "colab": {
          "base_uri": "https://localhost:8080/"
        },
        "id": "IQJwh5v4F-gf",
        "outputId": "73b208a6-1713-495e-cf27-5083f5caa39b"
      },
      "execution_count": 6,
      "outputs": [
        {
          "output_type": "stream",
          "name": "stdout",
          "text": [
            "+-------------------------------+----------+-----------+----------------------+---------+---------------------------------------------------------------------+-------------+\n",
            "|nome                           |data_nasc |cpf        |mae                   |celular  |email                                                                |telefone_fixo|\n",
            "+-------------------------------+----------+-----------+----------------------+---------+---------------------------------------------------------------------+-------------+\n",
            "|Cauã Isaac Caldeira            |02-03-1945|35083528118|Vitória Kamilly Sueli |989048340|cauaisaaccaldeira__cauaisaaccaldeira@hardquality.com.br              |28317237     |\n",
            "|Lúcia Carolina Luzia Almada    |11-11-1946|6480417194 |Stefany Teresinha     |997275887|luciacarolinaluziaalmada_@santarte.com                               |27446850     |\n",
            "|Vicente Marcos Edson Castro    |15-01-1959|72192158432|Cecília Laura Larissa |994560743|vicentemarcosedsoncastro-74@lavorosjc.com.br                         |28581372     |\n",
            "|Yago Pedro Henrique da Cruz    |24-10-1945|68328310562|Cristiane Pietra      |982340551|yagopedrohenriquedacruz_@elevaconsultancy.com.br                     |25189906     |\n",
            "|Valentina Stefany Alana Cardoso|23-03-1953|76298423761|Francisca Adriana     |999976430|valentinastefanyalanacardoso..valentinastefanyalanacardoso@galvao.com|26584091     |\n",
            "+-------------------------------+----------+-----------+----------------------+---------+---------------------------------------------------------------------+-------------+\n",
            "only showing top 5 rows\n",
            "\n"
          ]
        }
      ]
    },
    {
      "cell_type": "markdown",
      "source": [
        "## Dados Medicos"
      ],
      "metadata": {
        "id": "p-H49IezZKzy"
      }
    },
    {
      "cell_type": "code",
      "source": [
        "df2 = spark.read.format(\"csv\").option(\"header\", \"true\").load('/content/sample_data/dados_medicos.csv')"
      ],
      "metadata": {
        "id": "4Yju6O6mX5om"
      },
      "execution_count": 7,
      "outputs": []
    },
    {
      "cell_type": "code",
      "source": [
        "df2.show(5, False)"
      ],
      "metadata": {
        "colab": {
          "base_uri": "https://localhost:8080/"
        },
        "id": "mksOHQEKNXTy",
        "outputId": "2f519b87-d403-4342-9236-2a7568e50b79"
      },
      "execution_count": 8,
      "outputs": [
        {
          "output_type": "stream",
          "name": "stdout",
          "text": [
            "+---------------------------+----------+-----------+--------------+----+------+\n",
            "|nome                       |data_nasc |cpf        |tipo_sanguineo|peso|altura|\n",
            "+---------------------------+----------+-----------+--------------+----+------+\n",
            "|Alice Liz Adriana Duarte   |22/10/1975|58548099313|O-            |89  |1,57  |\n",
            "|Kaue César Lima            |01/01/1900|31515413217|AB-           |62  |1,99  |\n",
            "|Otávio Felipe Henry Almeida|10/01/1951|58271711156|A-            |85  |1,66  |\n",
            "|Rafaela Francisca Mendes   |07/11/1974|31087464641|O+            |46  |1,74  |\n",
            "|Bryan Joaquim Roberto Rosa |07/09/1957|61606247174|AB-           |66  |1,67  |\n",
            "+---------------------------+----------+-----------+--------------+----+------+\n",
            "only showing top 5 rows\n",
            "\n"
          ]
        }
      ]
    },
    {
      "cell_type": "markdown",
      "source": [
        "# Exercícios"
      ],
      "metadata": {
        "id": "wK_ups7vZRia"
      }
    },
    {
      "cell_type": "markdown",
      "metadata": {
        "id": "zMwyM1L_EndS"
      },
      "source": [
        "## Exercício 2: Pré-processamento\n",
        "*   Quais tarefas vocês listam como necessárias?\n",
        " *  Padronização de campos\n",
        " *  Substituir valores\n",
        " *  Retirar caracteres especiais\n",
        "*   Listar e executar!"
      ]
    },
    {
      "cell_type": "markdown",
      "source": [
        "### Cadastro Pré-Processamento"
      ],
      "metadata": {
        "id": "yJm_9Au2ZWs5"
      }
    },
    {
      "cell_type": "code",
      "source": [
        "df1.printSchema()"
      ],
      "metadata": {
        "colab": {
          "base_uri": "https://localhost:8080/"
        },
        "id": "EexqudprL0Kd",
        "outputId": "3b78d418-bef1-4511-86ee-b5679d83758b"
      },
      "execution_count": 9,
      "outputs": [
        {
          "output_type": "stream",
          "name": "stdout",
          "text": [
            "root\n",
            " |-- nome: string (nullable = true)\n",
            " |-- data_nasc: string (nullable = true)\n",
            " |-- cpf: string (nullable = true)\n",
            " |-- mae: string (nullable = true)\n",
            " |-- celular: string (nullable = true)\n",
            " |-- email: string (nullable = true)\n",
            " |-- telefone_fixo: string (nullable = true)\n",
            "\n"
          ]
        }
      ]
    },
    {
      "cell_type": "code",
      "execution_count": 10,
      "metadata": {
        "id": "O41HSbwA_rRJ"
      },
      "outputs": [],
      "source": [
        "df_cadastro = df1 \\\n",
        "    .withColumnRenamed(\"nome\", \"nome_completo\") \\\n",
        "    .withColumnRenamed(\"data_nasc\", \"data_nascimento\") \\\n",
        "    .withColumnRenamed(\"mae\", \"nome_mae\") \\\n",
        "    .withColumnRenamed(\"telefone_fixo\", \"telefone_fixo\")"
      ]
    },
    {
      "cell_type": "code",
      "source": [
        "df_cadastro.show(5, False)"
      ],
      "metadata": {
        "colab": {
          "base_uri": "https://localhost:8080/"
        },
        "id": "QLTgPPWxOTR3",
        "outputId": "ee582f0c-26c9-4201-ab62-fb154556255a"
      },
      "execution_count": 11,
      "outputs": [
        {
          "output_type": "stream",
          "name": "stdout",
          "text": [
            "+-------------------------------+---------------+-----------+----------------------+---------+---------------------------------------------------------------------+-------------+\n",
            "|nome_completo                  |data_nascimento|cpf        |nome_mae              |celular  |email                                                                |telefone_fixo|\n",
            "+-------------------------------+---------------+-----------+----------------------+---------+---------------------------------------------------------------------+-------------+\n",
            "|Cauã Isaac Caldeira            |02-03-1945     |35083528118|Vitória Kamilly Sueli |989048340|cauaisaaccaldeira__cauaisaaccaldeira@hardquality.com.br              |28317237     |\n",
            "|Lúcia Carolina Luzia Almada    |11-11-1946     |6480417194 |Stefany Teresinha     |997275887|luciacarolinaluziaalmada_@santarte.com                               |27446850     |\n",
            "|Vicente Marcos Edson Castro    |15-01-1959     |72192158432|Cecília Laura Larissa |994560743|vicentemarcosedsoncastro-74@lavorosjc.com.br                         |28581372     |\n",
            "|Yago Pedro Henrique da Cruz    |24-10-1945     |68328310562|Cristiane Pietra      |982340551|yagopedrohenriquedacruz_@elevaconsultancy.com.br                     |25189906     |\n",
            "|Valentina Stefany Alana Cardoso|23-03-1953     |76298423761|Francisca Adriana     |999976430|valentinastefanyalanacardoso..valentinastefanyalanacardoso@galvao.com|26584091     |\n",
            "+-------------------------------+---------------+-----------+----------------------+---------+---------------------------------------------------------------------+-------------+\n",
            "only showing top 5 rows\n",
            "\n"
          ]
        }
      ]
    },
    {
      "cell_type": "markdown",
      "source": [
        "#### Padronizar data de nascimento para o formato DD/MM/YYYY"
      ],
      "metadata": {
        "id": "xN4f2lu8wD9V"
      }
    },
    {
      "cell_type": "code",
      "source": [
        "df_cadastro = df_cadastro.withColumn(\"data_nascimento\", to_date(col(\"data_nascimento\"), \"dd-MM-yyyy\"))\n",
        "df_cadastro = df_cadastro.withColumn(\"data_nascimento\", date_format(col(\"data_nascimento\"), \"dd/MM/yyyy\"))"
      ],
      "metadata": {
        "id": "WyC3AF5_R7Q9"
      },
      "execution_count": 12,
      "outputs": []
    },
    {
      "cell_type": "markdown",
      "source": [
        "#### Padronizar CPF para o formato 000.000.000-00"
      ],
      "metadata": {
        "id": "VPqHtYaZwJVF"
      }
    },
    {
      "cell_type": "code",
      "source": [
        "df_cadastro = df_cadastro.withColumn(\"cpf\", lpad(col(\"cpf\"), 11, \"0\"))  # Garantir 11 dígitos\n",
        "df_cadastro = df_cadastro.withColumn(\"cpf\", concat(\n",
        "    col(\"cpf\").substr(1, 3), lit(\".\"),\n",
        "    col(\"cpf\").substr(4, 3), lit(\".\"),\n",
        "    col(\"cpf\").substr(7, 3), lit(\"-\"),\n",
        "    col(\"cpf\").substr(10, 2)\n",
        "))"
      ],
      "metadata": {
        "id": "jqpUf0f3SiEI"
      },
      "execution_count": 13,
      "outputs": []
    },
    {
      "cell_type": "markdown",
      "source": [
        "#### Padronizar números de celular e telefone fixo para o formato 00000-0000 (sem DDD)"
      ],
      "metadata": {
        "id": "9E3uw8z1wpK-"
      }
    },
    {
      "cell_type": "code",
      "source": [
        "df_cadastro = df_cadastro.withColumn(\"celular\", lpad(col(\"celular\"), 9, \"0\"))\n",
        "df_cadastro = df_cadastro.withColumn(\"celular\", concat(\n",
        "    col(\"celular\").substr(1, 5), lit(\"-\"),\n",
        "    col(\"celular\").substr(6, 4)\n",
        "))\n",
        "\n",
        "df_cadastro = df_cadastro.withColumn(\"telefone_fixo\", lpad(col(\"telefone_fixo\"), 8, \"0\"))\n",
        "df_cadastro = df_cadastro.withColumn(\"telefone_fixo\", concat(\n",
        "    col(\"telefone_fixo\").substr(1, 4), lit(\"-\"),\n",
        "    col(\"telefone_fixo\").substr(5, 4)\n",
        "))"
      ],
      "metadata": {
        "id": "6XbssCtpSo65"
      },
      "execution_count": 14,
      "outputs": []
    },
    {
      "cell_type": "code",
      "source": [
        "df_cadastro.show(5, False)"
      ],
      "metadata": {
        "colab": {
          "base_uri": "https://localhost:8080/"
        },
        "id": "UDjT10SqOgaN",
        "outputId": "d6fdb90c-635c-4a40-adea-bf4a122d3e3c"
      },
      "execution_count": 15,
      "outputs": [
        {
          "output_type": "stream",
          "name": "stdout",
          "text": [
            "+-------------------------------+---------------+--------------+----------------------+----------+---------------------------------------------------------------------+-------------+\n",
            "|nome_completo                  |data_nascimento|cpf           |nome_mae              |celular   |email                                                                |telefone_fixo|\n",
            "+-------------------------------+---------------+--------------+----------------------+----------+---------------------------------------------------------------------+-------------+\n",
            "|Cauã Isaac Caldeira            |02/03/1945     |350.835.281-18|Vitória Kamilly Sueli |98904-8340|cauaisaaccaldeira__cauaisaaccaldeira@hardquality.com.br              |2831-7237    |\n",
            "|Lúcia Carolina Luzia Almada    |11/11/1946     |064.804.171-94|Stefany Teresinha     |99727-5887|luciacarolinaluziaalmada_@santarte.com                               |2744-6850    |\n",
            "|Vicente Marcos Edson Castro    |15/01/1959     |721.921.584-32|Cecília Laura Larissa |99456-0743|vicentemarcosedsoncastro-74@lavorosjc.com.br                         |2858-1372    |\n",
            "|Yago Pedro Henrique da Cruz    |24/10/1945     |683.283.105-62|Cristiane Pietra      |98234-0551|yagopedrohenriquedacruz_@elevaconsultancy.com.br                     |2518-9906    |\n",
            "|Valentina Stefany Alana Cardoso|23/03/1953     |762.984.237-61|Francisca Adriana     |99997-6430|valentinastefanyalanacardoso..valentinastefanyalanacardoso@galvao.com|2658-4091    |\n",
            "+-------------------------------+---------------+--------------+----------------------+----------+---------------------------------------------------------------------+-------------+\n",
            "only showing top 5 rows\n",
            "\n"
          ]
        }
      ]
    },
    {
      "cell_type": "code",
      "source": [
        "df_cadastro.printSchema()"
      ],
      "metadata": {
        "colab": {
          "base_uri": "https://localhost:8080/"
        },
        "id": "fbnnymCjXFEG",
        "outputId": "8c6a573c-f188-4175-f61b-71fcbc07dbd5"
      },
      "execution_count": 16,
      "outputs": [
        {
          "output_type": "stream",
          "name": "stdout",
          "text": [
            "root\n",
            " |-- nome_completo: string (nullable = true)\n",
            " |-- data_nascimento: string (nullable = true)\n",
            " |-- cpf: string (nullable = true)\n",
            " |-- nome_mae: string (nullable = true)\n",
            " |-- celular: string (nullable = true)\n",
            " |-- email: string (nullable = true)\n",
            " |-- telefone_fixo: string (nullable = true)\n",
            "\n"
          ]
        }
      ]
    },
    {
      "cell_type": "markdown",
      "source": [
        "### Dados Medicos Pré-Processamento"
      ],
      "metadata": {
        "id": "U2IJ5kuaZocB"
      }
    },
    {
      "cell_type": "code",
      "source": [
        "df2.printSchema()\n",
        "df2.show(5, False)"
      ],
      "metadata": {
        "colab": {
          "base_uri": "https://localhost:8080/"
        },
        "id": "gwO0s-RyZs-V",
        "outputId": "cd4fde76-96fe-4e35-fb67-6a2d63b37ace"
      },
      "execution_count": 17,
      "outputs": [
        {
          "output_type": "stream",
          "name": "stdout",
          "text": [
            "root\n",
            " |-- nome: string (nullable = true)\n",
            " |-- data_nasc: string (nullable = true)\n",
            " |-- cpf: string (nullable = true)\n",
            " |-- tipo_sanguineo: string (nullable = true)\n",
            " |-- peso: string (nullable = true)\n",
            " |-- altura: string (nullable = true)\n",
            "\n",
            "+---------------------------+----------+-----------+--------------+----+------+\n",
            "|nome                       |data_nasc |cpf        |tipo_sanguineo|peso|altura|\n",
            "+---------------------------+----------+-----------+--------------+----+------+\n",
            "|Alice Liz Adriana Duarte   |22/10/1975|58548099313|O-            |89  |1,57  |\n",
            "|Kaue César Lima            |01/01/1900|31515413217|AB-           |62  |1,99  |\n",
            "|Otávio Felipe Henry Almeida|10/01/1951|58271711156|A-            |85  |1,66  |\n",
            "|Rafaela Francisca Mendes   |07/11/1974|31087464641|O+            |46  |1,74  |\n",
            "|Bryan Joaquim Roberto Rosa |07/09/1957|61606247174|AB-           |66  |1,67  |\n",
            "+---------------------------+----------+-----------+--------------+----+------+\n",
            "only showing top 5 rows\n",
            "\n"
          ]
        }
      ]
    },
    {
      "cell_type": "code",
      "source": [
        "df_dados_medicos = df2 \\\n",
        "    .withColumnRenamed(\"nome\", \"nome_completo_dados_medicos\") \\\n",
        "    .withColumnRenamed(\"data_nasc\", \"data_nascimento_dados_medicos\")\\\n",
        "    .withColumnRenamed(\"cpf\", \"cpf_dados_medicos\")"
      ],
      "metadata": {
        "id": "F2rim88Juv_-"
      },
      "execution_count": 18,
      "outputs": []
    },
    {
      "cell_type": "markdown",
      "source": [
        "#### Padronizar data de nascimento para o formato DD/MM/YYYY"
      ],
      "metadata": {
        "id": "YTo8s4vyxCB0"
      }
    },
    {
      "cell_type": "code",
      "source": [
        "df_dados_medicos = df_dados_medicos.withColumn(\"data_nascimento_dados_medicos\", to_date(col(\"data_nascimento_dados_medicos\"), \"dd/MM/yyyy\"))\n",
        "df_dados_medicos = df_dados_medicos.withColumn(\"data_nascimento_dados_medicos\", date_format(col(\"data_nascimento_dados_medicos\"), \"dd/MM/yyyy\"))"
      ],
      "metadata": {
        "id": "GmSu7xPcbe9W"
      },
      "execution_count": 19,
      "outputs": []
    },
    {
      "cell_type": "markdown",
      "source": [
        "#### Padronizar CPF para o formato 000.000.000-00"
      ],
      "metadata": {
        "id": "js1xffCRxGTa"
      }
    },
    {
      "cell_type": "code",
      "source": [
        "df_dados_medicos = df_dados_medicos.withColumn(\"cpf_dados_medicos\", lpad(col(\"cpf_dados_medicos\"), 11, \"0\"))  # Garantir 11 dígitos\n",
        "df_dados_medicos = df_dados_medicos.withColumn(\"cpf_dados_medicos\", concat(\n",
        "    col(\"cpf_dados_medicos\").substr(1, 3), lit(\".\"),\n",
        "    col(\"cpf_dados_medicos\").substr(4, 3), lit(\".\"),\n",
        "    col(\"cpf_dados_medicos\").substr(7, 3), lit(\"-\"),\n",
        "    col(\"cpf_dados_medicos\").substr(10, 2)\n",
        "))"
      ],
      "metadata": {
        "id": "sn9lUIJObltP"
      },
      "execution_count": 20,
      "outputs": []
    },
    {
      "cell_type": "markdown",
      "source": [
        "#### Padronizar peso e altura"
      ],
      "metadata": {
        "id": "NtPaIKJSxLli"
      }
    },
    {
      "cell_type": "code",
      "source": [
        "# Remover possíveis caracteres especiais (como vírgulas) e converter para float\n",
        "df_dados_medicos = df_dados_medicos.withColumn(\"peso\", regexp_replace(col(\"peso\"), \",\", \".\").cast(\"float\"))\n",
        "df_dados_medicos = df_dados_medicos.withColumn(\"altura\", regexp_replace(col(\"altura\"), \",\", \".\").cast(\"float\"))\n"
      ],
      "metadata": {
        "id": "Mm91WsrYbsVE"
      },
      "execution_count": 21,
      "outputs": []
    },
    {
      "cell_type": "code",
      "source": [
        "df_dados_medicos.printSchema()"
      ],
      "metadata": {
        "colab": {
          "base_uri": "https://localhost:8080/"
        },
        "id": "qTvPFFceb87A",
        "outputId": "5d9f8c39-aa2c-4788-b813-b47801e6bbcb"
      },
      "execution_count": 22,
      "outputs": [
        {
          "output_type": "stream",
          "name": "stdout",
          "text": [
            "root\n",
            " |-- nome_completo_dados_medicos: string (nullable = true)\n",
            " |-- data_nascimento_dados_medicos: string (nullable = true)\n",
            " |-- cpf_dados_medicos: string (nullable = true)\n",
            " |-- tipo_sanguineo: string (nullable = true)\n",
            " |-- peso: float (nullable = true)\n",
            " |-- altura: float (nullable = true)\n",
            "\n"
          ]
        }
      ]
    },
    {
      "cell_type": "code",
      "source": [
        "df_dados_medicos.show(5, False)"
      ],
      "metadata": {
        "colab": {
          "base_uri": "https://localhost:8080/"
        },
        "id": "H7LYfoJ6bzNP",
        "outputId": "99159f64-8739-431f-e3ca-4def4890101f"
      },
      "execution_count": 23,
      "outputs": [
        {
          "output_type": "stream",
          "name": "stdout",
          "text": [
            "+---------------------------+-----------------------------+-----------------+--------------+----+------+\n",
            "|nome_completo_dados_medicos|data_nascimento_dados_medicos|cpf_dados_medicos|tipo_sanguineo|peso|altura|\n",
            "+---------------------------+-----------------------------+-----------------+--------------+----+------+\n",
            "|Alice Liz Adriana Duarte   |22/10/1975                   |585.480.993-13   |O-            |89.0|1.57  |\n",
            "|Kaue César Lima            |01/01/1900                   |315.154.132-17   |AB-           |62.0|1.99  |\n",
            "|Otávio Felipe Henry Almeida|10/01/1951                   |582.717.111-56   |A-            |85.0|1.66  |\n",
            "|Rafaela Francisca Mendes   |07/11/1974                   |310.874.646-41   |O+            |46.0|1.74  |\n",
            "|Bryan Joaquim Roberto Rosa |07/09/1957                   |616.062.471-74   |AB-           |66.0|1.67  |\n",
            "+---------------------------+-----------------------------+-----------------+--------------+----+------+\n",
            "only showing top 5 rows\n",
            "\n"
          ]
        }
      ]
    },
    {
      "cell_type": "markdown",
      "metadata": {
        "id": "_5RrDraGFFdI"
      },
      "source": [
        "## Exercício 3: Indexação\n",
        "*    Listar possíveis blocking Keys\n",
        "*    Definir uma a ser utilizada\n",
        "*    Criar os blocos\n",
        "*    Listar os possíveis matches em cada bloco"
      ]
    },
    {
      "cell_type": "code",
      "source": [
        "df_cadastro = df_cadastro.withColumn(\n",
        "    \"data_nascimento\",\n",
        "    to_date(col(\"data_nascimento\"), \"dd/MM/yyyy\")\n",
        ").withColumn(\"nasc_mes\", month(\"data_nascimento\"))\n",
        "\n",
        "df_dados_medicos = df_dados_medicos.withColumn(\n",
        "    \"data_nascimento_dados_medicos\",\n",
        "    to_date(col(\"data_nascimento_dados_medicos\"), \"dd/MM/yyyy\")\n",
        ").withColumn(\"nasc_mes\", month(\"data_nascimento_dados_medicos\"))"
      ],
      "metadata": {
        "id": "-akXLI3Dbkc8"
      },
      "execution_count": 24,
      "outputs": []
    },
    {
      "cell_type": "markdown",
      "source": [
        "#### Extrair mês de nascimento e criar colunas auxiliares"
      ],
      "metadata": {
        "id": "lTssFteXx2io"
      }
    },
    {
      "cell_type": "code",
      "source": [
        "df_cadastro = df_cadastro.withColumn(\"nasc_mes\", month(\"data_nascimento\"))\n",
        "df_dados_medicos = df_dados_medicos.withColumn(\"nasc_mes\", month(\"data_nascimento_dados_medicos\"))"
      ],
      "metadata": {
        "id": "NQ_ls_hm9tsM"
      },
      "execution_count": 25,
      "outputs": []
    },
    {
      "cell_type": "code",
      "source": [
        "df_cadastro.show(5, False)\n",
        "df_dados_medicos.show(5, False)"
      ],
      "metadata": {
        "colab": {
          "base_uri": "https://localhost:8080/"
        },
        "id": "i53b7fyc-kBU",
        "outputId": "c8ac1dda-733a-4eb9-fd0c-c126031cdf60"
      },
      "execution_count": 26,
      "outputs": [
        {
          "output_type": "stream",
          "name": "stdout",
          "text": [
            "+-------------------------------+---------------+--------------+----------------------+----------+---------------------------------------------------------------------+-------------+--------+\n",
            "|nome_completo                  |data_nascimento|cpf           |nome_mae              |celular   |email                                                                |telefone_fixo|nasc_mes|\n",
            "+-------------------------------+---------------+--------------+----------------------+----------+---------------------------------------------------------------------+-------------+--------+\n",
            "|Cauã Isaac Caldeira            |1945-03-02     |350.835.281-18|Vitória Kamilly Sueli |98904-8340|cauaisaaccaldeira__cauaisaaccaldeira@hardquality.com.br              |2831-7237    |3       |\n",
            "|Lúcia Carolina Luzia Almada    |1946-11-11     |064.804.171-94|Stefany Teresinha     |99727-5887|luciacarolinaluziaalmada_@santarte.com                               |2744-6850    |11      |\n",
            "|Vicente Marcos Edson Castro    |1959-01-15     |721.921.584-32|Cecília Laura Larissa |99456-0743|vicentemarcosedsoncastro-74@lavorosjc.com.br                         |2858-1372    |1       |\n",
            "|Yago Pedro Henrique da Cruz    |1945-10-24     |683.283.105-62|Cristiane Pietra      |98234-0551|yagopedrohenriquedacruz_@elevaconsultancy.com.br                     |2518-9906    |10      |\n",
            "|Valentina Stefany Alana Cardoso|1953-03-23     |762.984.237-61|Francisca Adriana     |99997-6430|valentinastefanyalanacardoso..valentinastefanyalanacardoso@galvao.com|2658-4091    |3       |\n",
            "+-------------------------------+---------------+--------------+----------------------+----------+---------------------------------------------------------------------+-------------+--------+\n",
            "only showing top 5 rows\n",
            "\n",
            "+---------------------------+-----------------------------+-----------------+--------------+----+------+--------+\n",
            "|nome_completo_dados_medicos|data_nascimento_dados_medicos|cpf_dados_medicos|tipo_sanguineo|peso|altura|nasc_mes|\n",
            "+---------------------------+-----------------------------+-----------------+--------------+----+------+--------+\n",
            "|Alice Liz Adriana Duarte   |1975-10-22                   |585.480.993-13   |O-            |89.0|1.57  |10      |\n",
            "|Kaue César Lima            |1900-01-01                   |315.154.132-17   |AB-           |62.0|1.99  |1       |\n",
            "|Otávio Felipe Henry Almeida|1951-01-10                   |582.717.111-56   |A-            |85.0|1.66  |1       |\n",
            "|Rafaela Francisca Mendes   |1974-11-07                   |310.874.646-41   |O+            |46.0|1.74  |11      |\n",
            "|Bryan Joaquim Roberto Rosa |1957-09-07                   |616.062.471-74   |AB-           |66.0|1.67  |9       |\n",
            "+---------------------------+-----------------------------+-----------------+--------------+----+------+--------+\n",
            "only showing top 5 rows\n",
            "\n"
          ]
        }
      ]
    },
    {
      "cell_type": "markdown",
      "source": [
        "#### Contar pessoas por mês de nascimento em ambos os DataFrames"
      ],
      "metadata": {
        "id": "FEs0c5j5x62K"
      }
    },
    {
      "cell_type": "code",
      "source": [
        "cadastro_nasc_mes = df_cadastro.groupBy(\"nasc_mes\").count().withColumnRenamed(\"count\", \"cadastro\")\n",
        "dados_medicos_nasc_mes = df_dados_medicos.groupBy(\"nasc_mes\").count().withColumnRenamed(\"count\", \"dados_medicos\")"
      ],
      "metadata": {
        "id": "B6Ad83kT99_B"
      },
      "execution_count": 27,
      "outputs": []
    },
    {
      "cell_type": "code",
      "source": [
        "cadastro_nasc_mes.show()\n",
        "dados_medicos_nasc_mes.show()"
      ],
      "metadata": {
        "colab": {
          "base_uri": "https://localhost:8080/"
        },
        "id": "_w6XYvbyXj9e",
        "outputId": "198e31b1-b2bd-4248-eb5b-4ee8545b1346"
      },
      "execution_count": 28,
      "outputs": [
        {
          "output_type": "stream",
          "name": "stdout",
          "text": [
            "+--------+--------+\n",
            "|nasc_mes|cadastro|\n",
            "+--------+--------+\n",
            "|      12|      24|\n",
            "|       1|      34|\n",
            "|       6|      30|\n",
            "|       3|      37|\n",
            "|       5|      42|\n",
            "|       9|      28|\n",
            "|       4|      37|\n",
            "|       8|      40|\n",
            "|       7|      19|\n",
            "|      10|      32|\n",
            "|      11|      33|\n",
            "|       2|      37|\n",
            "+--------+--------+\n",
            "\n",
            "+--------+-------------+\n",
            "|nasc_mes|dados_medicos|\n",
            "+--------+-------------+\n",
            "|      12|           19|\n",
            "|    null|            3|\n",
            "|       1|           93|\n",
            "|       6|           22|\n",
            "|       3|           29|\n",
            "|       5|           25|\n",
            "|       9|           21|\n",
            "|       4|           25|\n",
            "|       8|           32|\n",
            "|       7|           15|\n",
            "|      10|           31|\n",
            "|      11|           25|\n",
            "|       2|           28|\n",
            "+--------+-------------+\n",
            "\n"
          ]
        }
      ]
    },
    {
      "cell_type": "markdown",
      "source": [
        "#### Unir os dois DataFrames para blocos mensais"
      ],
      "metadata": {
        "id": "KhQE7e7pysic"
      }
    },
    {
      "cell_type": "code",
      "source": [
        "blocos = cadastro_nasc_mes.join(dados_medicos_nasc_mes, \"nasc_mes\", \"outer\").fillna(0)"
      ],
      "metadata": {
        "id": "CV8v0zDy-vDU"
      },
      "execution_count": 29,
      "outputs": []
    },
    {
      "cell_type": "code",
      "source": [
        "blocos.show()"
      ],
      "metadata": {
        "colab": {
          "base_uri": "https://localhost:8080/"
        },
        "id": "L05LVMoKXpvE",
        "outputId": "f552c53d-d849-46ee-dc6e-bd7efba92465"
      },
      "execution_count": 30,
      "outputs": [
        {
          "output_type": "stream",
          "name": "stdout",
          "text": [
            "+--------+--------+-------------+\n",
            "|nasc_mes|cadastro|dados_medicos|\n",
            "+--------+--------+-------------+\n",
            "|      12|      24|           19|\n",
            "|       0|       0|            3|\n",
            "|       1|      34|           93|\n",
            "|       6|      30|           22|\n",
            "|       3|      37|           29|\n",
            "|       5|      42|           25|\n",
            "|       9|      28|           21|\n",
            "|       4|      37|           25|\n",
            "|       8|      40|           32|\n",
            "|       7|      19|           15|\n",
            "|      10|      32|           31|\n",
            "|      11|      33|           25|\n",
            "|       2|      37|           28|\n",
            "+--------+--------+-------------+\n",
            "\n"
          ]
        }
      ]
    },
    {
      "cell_type": "markdown",
      "source": [
        "#### Calcular o produto entre as colunas 'cadastro' e 'dados_medicos' e somar"
      ],
      "metadata": {
        "id": "tJpibNAby0Ot"
      }
    },
    {
      "cell_type": "code",
      "source": [
        "produto_nasc_mes = blocos.select((col(\"cadastro\") * col(\"dados_medicos\")).alias(\"produto\"))\n",
        "soma_produto_nasc_mes = produto_nasc_mes.groupBy().sum(\"produto\").first()[0]\n",
        "print(\"Soma dos produtos por mês de nascimento:\", soma_produto_nasc_mes)"
      ],
      "metadata": {
        "colab": {
          "base_uri": "https://localhost:8080/"
        },
        "id": "CCIicdE7-LvC",
        "outputId": "1dd840ff-73f1-49a9-87cf-d54fbe3e09d6"
      },
      "execution_count": 31,
      "outputs": [
        {
          "output_type": "stream",
          "name": "stdout",
          "text": [
            "Soma dos produtos por mês de nascimento: 12332\n"
          ]
        }
      ]
    },
    {
      "cell_type": "markdown",
      "source": [
        "#### Extraindo o primeiro dígito do CPF"
      ],
      "metadata": {
        "id": "t4CamS2iy7rb"
      }
    },
    {
      "cell_type": "code",
      "source": [
        "df_cadastro = df_cadastro.withColumn(\"cpf_0\", substring(\"cpf\", 1, 1))\n",
        "df_dados_medicos = df_dados_medicos.withColumn(\"cpf_0\", substring(\"cpf_dados_medicos\", 1, 1))"
      ],
      "metadata": {
        "id": "Z25TMvRx-XW9"
      },
      "execution_count": 32,
      "outputs": []
    },
    {
      "cell_type": "code",
      "source": [
        "df_cadastro.show(5, False)\n",
        "df_dados_medicos.show(5, False)"
      ],
      "metadata": {
        "colab": {
          "base_uri": "https://localhost:8080/"
        },
        "id": "QXsyt3E0_tVm",
        "outputId": "cdeddbd5-bdfa-4e0e-af21-acb5af3930e6"
      },
      "execution_count": 33,
      "outputs": [
        {
          "output_type": "stream",
          "name": "stdout",
          "text": [
            "+-------------------------------+---------------+--------------+----------------------+----------+---------------------------------------------------------------------+-------------+--------+-----+\n",
            "|nome_completo                  |data_nascimento|cpf           |nome_mae              |celular   |email                                                                |telefone_fixo|nasc_mes|cpf_0|\n",
            "+-------------------------------+---------------+--------------+----------------------+----------+---------------------------------------------------------------------+-------------+--------+-----+\n",
            "|Cauã Isaac Caldeira            |1945-03-02     |350.835.281-18|Vitória Kamilly Sueli |98904-8340|cauaisaaccaldeira__cauaisaaccaldeira@hardquality.com.br              |2831-7237    |3       |3    |\n",
            "|Lúcia Carolina Luzia Almada    |1946-11-11     |064.804.171-94|Stefany Teresinha     |99727-5887|luciacarolinaluziaalmada_@santarte.com                               |2744-6850    |11      |0    |\n",
            "|Vicente Marcos Edson Castro    |1959-01-15     |721.921.584-32|Cecília Laura Larissa |99456-0743|vicentemarcosedsoncastro-74@lavorosjc.com.br                         |2858-1372    |1       |7    |\n",
            "|Yago Pedro Henrique da Cruz    |1945-10-24     |683.283.105-62|Cristiane Pietra      |98234-0551|yagopedrohenriquedacruz_@elevaconsultancy.com.br                     |2518-9906    |10      |6    |\n",
            "|Valentina Stefany Alana Cardoso|1953-03-23     |762.984.237-61|Francisca Adriana     |99997-6430|valentinastefanyalanacardoso..valentinastefanyalanacardoso@galvao.com|2658-4091    |3       |7    |\n",
            "+-------------------------------+---------------+--------------+----------------------+----------+---------------------------------------------------------------------+-------------+--------+-----+\n",
            "only showing top 5 rows\n",
            "\n",
            "+---------------------------+-----------------------------+-----------------+--------------+----+------+--------+-----+\n",
            "|nome_completo_dados_medicos|data_nascimento_dados_medicos|cpf_dados_medicos|tipo_sanguineo|peso|altura|nasc_mes|cpf_0|\n",
            "+---------------------------+-----------------------------+-----------------+--------------+----+------+--------+-----+\n",
            "|Alice Liz Adriana Duarte   |1975-10-22                   |585.480.993-13   |O-            |89.0|1.57  |10      |5    |\n",
            "|Kaue César Lima            |1900-01-01                   |315.154.132-17   |AB-           |62.0|1.99  |1       |3    |\n",
            "|Otávio Felipe Henry Almeida|1951-01-10                   |582.717.111-56   |A-            |85.0|1.66  |1       |5    |\n",
            "|Rafaela Francisca Mendes   |1974-11-07                   |310.874.646-41   |O+            |46.0|1.74  |11      |3    |\n",
            "|Bryan Joaquim Roberto Rosa |1957-09-07                   |616.062.471-74   |AB-           |66.0|1.67  |9       |6    |\n",
            "+---------------------------+-----------------------------+-----------------+--------------+----+------+--------+-----+\n",
            "only showing top 5 rows\n",
            "\n"
          ]
        }
      ]
    },
    {
      "cell_type": "markdown",
      "source": [
        "#### Contagem por primeiro dígito do CPF"
      ],
      "metadata": {
        "id": "jrzdtPqky_Uu"
      }
    },
    {
      "cell_type": "code",
      "source": [
        "cadastro_cpf_0 = df_cadastro.groupBy(\"cpf_0\").count().withColumnRenamed(\"count\", \"cadastro\")\n",
        "dados_medicos_cpf_0 = df_dados_medicos.groupBy(\"cpf_0\").count().withColumnRenamed(\"count\", \"dados_medicos\")"
      ],
      "metadata": {
        "id": "8waH_LgC-yE3"
      },
      "execution_count": 34,
      "outputs": []
    },
    {
      "cell_type": "code",
      "source": [
        "cadastro_cpf_0.show()\n",
        "dados_medicos_cpf_0.show()"
      ],
      "metadata": {
        "colab": {
          "base_uri": "https://localhost:8080/"
        },
        "id": "67Z3Kz8j_w9N",
        "outputId": "50b47bed-13c5-463d-c266-3c7d7b4beba2"
      },
      "execution_count": 35,
      "outputs": [
        {
          "output_type": "stream",
          "name": "stdout",
          "text": [
            "+-----+--------+\n",
            "|cpf_0|cadastro|\n",
            "+-----+--------+\n",
            "|    7|      48|\n",
            "|    3|      44|\n",
            "|    8|      32|\n",
            "|    0|      37|\n",
            "|    5|      50|\n",
            "|    6|      40|\n",
            "|    9|      33|\n",
            "|    1|      30|\n",
            "|    4|      41|\n",
            "|    2|      38|\n",
            "+-----+--------+\n",
            "\n",
            "+-----+-------------+\n",
            "|cpf_0|dados_medicos|\n",
            "+-----+-------------+\n",
            "|    7|           40|\n",
            "|    3|           34|\n",
            "|    8|           20|\n",
            "|    0|           96|\n",
            "|    5|           41|\n",
            "|    6|           31|\n",
            "|    9|           22|\n",
            "|    1|           24|\n",
            "|    4|           34|\n",
            "|    2|           26|\n",
            "+-----+-------------+\n",
            "\n"
          ]
        }
      ]
    },
    {
      "cell_type": "markdown",
      "source": [
        "#### Criando blocos por primeiro dígito do CPF"
      ],
      "metadata": {
        "id": "3BWo1CZFzHT7"
      }
    },
    {
      "cell_type": "code",
      "source": [
        "blocos_cpf = cadastro_cpf_0.join(dados_medicos_cpf_0, \"cpf_0\", \"outer\").fillna(0)\n",
        "produto_cpf_0 = blocos_cpf.select((col(\"cadastro\") * col(\"dados_medicos\")).alias(\"produto\"))\n",
        "soma_produto_cpf_0 = produto_cpf_0.groupBy().sum(\"produto\").first()[0]\n",
        "print(\"Soma dos produtos por primeiro dígito do CPF:\", soma_produto_cpf_0)"
      ],
      "metadata": {
        "colab": {
          "base_uri": "https://localhost:8080/"
        },
        "id": "CxFUgqDp-1BL",
        "outputId": "655e3752-42bb-4ec8-c10d-51fc45dbac0f"
      },
      "execution_count": 36,
      "outputs": [
        {
          "output_type": "stream",
          "name": "stdout",
          "text": [
            "Soma dos produtos por primeiro dígito do CPF: 14726\n"
          ]
        }
      ]
    },
    {
      "cell_type": "markdown",
      "source": [
        "#### Separar dados em blocos de 0 a 9 usando o primeiro dígito do CPF"
      ],
      "metadata": {
        "id": "VfQpN7dt0BQq"
      }
    },
    {
      "cell_type": "code",
      "source": [
        "cadastro_blocos = {str(i): df_cadastro.filter(col(\"cpf_0\") == str(i)) for i in range(10)}\n",
        "dados_medicos_blocos = {str(i): df_dados_medicos.filter(col(\"cpf_0\") == str(i)) for i in range(10)}\n"
      ],
      "metadata": {
        "id": "Vl0YggNf-4YV"
      },
      "execution_count": 37,
      "outputs": []
    },
    {
      "cell_type": "markdown",
      "source": [
        "##### Verificando execução em blocos para Cadastro e Dados medicos"
      ],
      "metadata": {
        "id": "Kin1yN2U0ILm"
      }
    },
    {
      "cell_type": "code",
      "source": [
        "for i in range(10):\n",
        "  print(cadastro_blocos[f\"{i}\"].show(2, False))"
      ],
      "metadata": {
        "colab": {
          "base_uri": "https://localhost:8080/"
        },
        "id": "3yJiGEbGhemh",
        "outputId": "09cd7d44-8dad-4431-b10c-07f0559e812a"
      },
      "execution_count": 38,
      "outputs": [
        {
          "output_type": "stream",
          "name": "stdout",
          "text": [
            "+---------------------------------+---------------+--------------+------------------+----------+--------------------------------------------------------------------------------+-------------+--------+-----+\n",
            "|nome_completo                    |data_nascimento|cpf           |nome_mae          |celular   |email                                                                           |telefone_fixo|nasc_mes|cpf_0|\n",
            "+---------------------------------+---------------+--------------+------------------+----------+--------------------------------------------------------------------------------+-------------+--------+-----+\n",
            "|Lúcia Carolina Luzia Almada      |1946-11-11     |064.804.171-94|Stefany Teresinha |99727-5887|luciacarolinaluziaalmada_@santarte.com                                          |2744-6850    |11      |0    |\n",
            "|Sabrina Aparecida Mirella Ribeiro|1993-05-17     |067.127.576-30|Cláudia Sophia    |99180-6203|sabrinaaparecidamirellaribeiro__sabrinaaparecidamirellaribeiro@wwlimpador.com.br|3829-9799    |5       |0    |\n",
            "+---------------------------------+---------------+--------------+------------------+----------+--------------------------------------------------------------------------------+-------------+--------+-----+\n",
            "only showing top 2 rows\n",
            "\n",
            "None\n",
            "+---------------------------------------+---------------+--------------+----------------+----------+---------------------------------------------------+-------------+--------+-----+\n",
            "|nome_completo                          |data_nascimento|cpf           |nome_mae        |celular   |email                                              |telefone_fixo|nasc_mes|cpf_0|\n",
            "+---------------------------------------+---------------+--------------+----------------+----------+---------------------------------------------------+-------------+--------+-----+\n",
            "|Letícia Márcia Vieira                  |1968-01-03     |144.893.743-48|Carolina Sophie |99943-4571|leticiamarciavieira_@maissaude.adm.br              |2507-1526    |1       |1    |\n",
            "|Benedito Marcos Vinicius Tomás Caldeira|1949-03-20     |113.623.933-20|Nair Rita       |99196-6342|beneditomarcosviniciustomascaldeira-82@edpbr.com.br|3597-7657    |3       |1    |\n",
            "+---------------------------------------+---------------+--------------+----------------+----------+---------------------------------------------------+-------------+--------+-----+\n",
            "only showing top 2 rows\n",
            "\n",
            "None\n",
            "+------------------------+---------------+--------------+----------------------+----------+--------------------------------------------------+-------------+--------+-----+\n",
            "|nome_completo           |data_nascimento|cpf           |nome_mae              |celular   |email                                             |telefone_fixo|nasc_mes|cpf_0|\n",
            "+------------------------+---------------+--------------+----------------------+----------+--------------------------------------------------+-------------+--------+-----+\n",
            "|Alice Caroline Caldeira |1986-10-18     |225.888.029-74|Vera Louise Adriana   |98635-8796|alicecarolinecaldeira-96@marmorariauchoa.com      |3559-5474    |10      |2    |\n",
            "|Priscila Emanuelly Jesus|1967-07-14     |260.560.591-46|Yasmin Isadora Alícia |99465-8940|ppriscilaemanuellyjesus@allianceconsultoria.com.br|2884-7197    |7       |2    |\n",
            "+------------------------+---------------+--------------+----------------------+----------+--------------------------------------------------+-------------+--------+-----+\n",
            "only showing top 2 rows\n",
            "\n",
            "None\n",
            "+----------------------------+---------------+--------------+----------------------+----------+-------------------------------------------------------+-------------+--------+-----+\n",
            "|nome_completo               |data_nascimento|cpf           |nome_mae              |celular   |email                                                  |telefone_fixo|nasc_mes|cpf_0|\n",
            "+----------------------------+---------------+--------------+----------------------+----------+-------------------------------------------------------+-------------+--------+-----+\n",
            "|Cauã Isaac Caldeira         |1945-03-02     |350.835.281-18|Vitória Kamilly Sueli |98904-8340|cauaisaaccaldeira__cauaisaaccaldeira@hardquality.com.br|2831-7237    |3       |3    |\n",
            "|Rayssa Daiane Priscila Alves|1950-08-21     |311.459.263-55|Ester Aline           |98142-8044|rrayssadaianepriscilaalves@cbsaperfeicoamento.com.br   |3505-5812    |8       |3    |\n",
            "+----------------------------+---------------+--------------+----------------------+----------+-------------------------------------------------------+-------------+--------+-----+\n",
            "only showing top 2 rows\n",
            "\n",
            "None\n",
            "+---------------------------+---------------+--------------+----------------------+----------+--------------------------------------------------------------------+-------------+--------+-----+\n",
            "|nome_completo              |data_nascimento|cpf           |nome_mae              |celular   |email                                                               |telefone_fixo|nasc_mes|cpf_0|\n",
            "+---------------------------+---------------+--------------+----------------------+----------+--------------------------------------------------------------------+-------------+--------+-----+\n",
            "|Daiane Bruna Martins       |1975-03-13     |401.474.839-13|Vitória Brenda Helena |98636-0458|daianebrunamartins__daianebrunamartins@segplanet.com.br             |3746-5939    |3       |4    |\n",
            "|Alexandre André Diego Silva|1991-05-11     |477.104.419-80|Gabrielly Betina      |98272-3454|alexandreandrediegosilva__alexandreandrediegosilva@gasparalmeida.com|2627-3162    |5       |4    |\n",
            "+---------------------------+---------------+--------------+----------------------+----------+--------------------------------------------------------------------+-------------+--------+-----+\n",
            "only showing top 2 rows\n",
            "\n",
            "None\n",
            "+----------------------+---------------+--------------+-----------------------+----------+-----------------------------------------------+-------------+--------+-----+\n",
            "|nome_completo         |data_nascimento|cpf           |nome_mae               |celular   |email                                          |telefone_fixo|nasc_mes|cpf_0|\n",
            "+----------------------+---------------+--------------+-----------------------+----------+-----------------------------------------------+-------------+--------+-----+\n",
            "|Pietro Sebastião Gomes|1988-11-27     |526.794.475-06|Milena Betina Priscila |98851-4077|pietrosebastiaogomes-84@dominiozeladoria.com.br|3889-9861    |11      |5    |\n",
            "|Yuri Enrico Cauê Gomes|1960-01-11     |566.881.270-75|Carla Josefa Catarina  |99804-5602|yurienricocauegomes-87@band.com                |2722-2086    |1       |5    |\n",
            "+----------------------+---------------+--------------+-----------------------+----------+-----------------------------------------------+-------------+--------+-----+\n",
            "only showing top 2 rows\n",
            "\n",
            "None\n",
            "+---------------------------+---------------+--------------+-----------------+----------+------------------------------------------------+-------------+--------+-----+\n",
            "|nome_completo              |data_nascimento|cpf           |nome_mae         |celular   |email                                           |telefone_fixo|nasc_mes|cpf_0|\n",
            "+---------------------------+---------------+--------------+-----------------+----------+------------------------------------------------+-------------+--------+-----+\n",
            "|Yago Pedro Henrique da Cruz|1945-10-24     |683.283.105-62|Cristiane Pietra |98234-0551|yagopedrohenriquedacruz_@elevaconsultancy.com.br|2518-9906    |10      |6    |\n",
            "|Edson Elias Cavalcanti     |1956-09-25     |681.456.753-91|Luciana Beatriz  |98418-8835|edsoneliascavalcanti-73@trt15.jus.br            |2852-6539    |9       |6    |\n",
            "+---------------------------+---------------+--------------+-----------------+----------+------------------------------------------------+-------------+--------+-----+\n",
            "only showing top 2 rows\n",
            "\n",
            "None\n",
            "+-------------------------------+---------------+--------------+----------------------+----------+---------------------------------------------------------------------+-------------+--------+-----+\n",
            "|nome_completo                  |data_nascimento|cpf           |nome_mae              |celular   |email                                                                |telefone_fixo|nasc_mes|cpf_0|\n",
            "+-------------------------------+---------------+--------------+----------------------+----------+---------------------------------------------------------------------+-------------+--------+-----+\n",
            "|Vicente Marcos Edson Castro    |1959-01-15     |721.921.584-32|Cecília Laura Larissa |99456-0743|vicentemarcosedsoncastro-74@lavorosjc.com.br                         |2858-1372    |1       |7    |\n",
            "|Valentina Stefany Alana Cardoso|1953-03-23     |762.984.237-61|Francisca Adriana     |99997-6430|valentinastefanyalanacardoso..valentinastefanyalanacardoso@galvao.com|2658-4091    |3       |7    |\n",
            "+-------------------------------+---------------+--------------+----------------------+----------+---------------------------------------------------------------------+-------------+--------+-----+\n",
            "only showing top 2 rows\n",
            "\n",
            "None\n",
            "+--------------------------------+---------------+--------------+-----------------------+----------+-------------------------------------------+-------------+--------+-----+\n",
            "|nome_completo                   |data_nascimento|cpf           |nome_mae               |celular   |email                                      |telefone_fixo|nasc_mes|cpf_0|\n",
            "+--------------------------------+---------------+--------------+-----------------------+----------+-------------------------------------------+-------------+--------+-----+\n",
            "|Matheus Gustavo Daniel Bernardes|1985-09-11     |816.110.579-06|Mirella Nicole Letícia |99798-0837|mmatheusgustavodanielbernardes@bplan.com.br|3820-6507    |9       |8    |\n",
            "|Rita Juliana da Luz             |1947-08-09     |814.967.967-72|Analu Luiza Lorena     |98884-8829|ritajulianadaluz_@bhcervejas.com.br        |3505-0497    |8       |8    |\n",
            "+--------------------------------+---------------+--------------+-----------------------+----------+-------------------------------------------+-------------+--------+-----+\n",
            "only showing top 2 rows\n",
            "\n",
            "None\n",
            "+-----------------------------+---------------+--------------+-------------+----------+------------------------------------------------------------------+-------------+--------+-----+\n",
            "|nome_completo                |data_nascimento|cpf           |nome_mae     |celular   |email                                                             |telefone_fixo|nasc_mes|cpf_0|\n",
            "+-----------------------------+---------------+--------------+-------------+----------+------------------------------------------------------------------+-------------+--------+-----+\n",
            "|Gabriel Giovanni Edson Fogaça|1996-06-18     |923.163.982-00|Luzia Carla  |98513-4581|gabrielgiovanniedsonfogaca-81@araraquara.com.br                   |2586-6008    |6       |9    |\n",
            "|Rodrigo Luís Figueiredo      |1955-09-02     |995.789.859-08|Isis Isabela |98892-5081|rodrigoluisfigueiredo..rodrigoluisfigueiredo@franciscofilho.adv.br|3742-7437    |9       |9    |\n",
            "+-----------------------------+---------------+--------------+-------------+----------+------------------------------------------------------------------+-------------+--------+-----+\n",
            "only showing top 2 rows\n",
            "\n",
            "None\n"
          ]
        }
      ]
    },
    {
      "cell_type": "code",
      "source": [
        "for i in range(10):\n",
        "  print(dados_medicos_blocos[f\"{i}\"].show(2, False))"
      ],
      "metadata": {
        "colab": {
          "base_uri": "https://localhost:8080/"
        },
        "id": "_UVHlCPhhqeu",
        "outputId": "bc4d8a74-e9ad-450b-bf6a-ca2e1dca5320"
      },
      "execution_count": 39,
      "outputs": [
        {
          "output_type": "stream",
          "name": "stdout",
          "text": [
            "+---------------------------+-----------------------------+-----------------+--------------+----+------+--------+-----+\n",
            "|nome_completo_dados_medicos|data_nascimento_dados_medicos|cpf_dados_medicos|tipo_sanguineo|peso|altura|nasc_mes|cpf_0|\n",
            "+---------------------------+-----------------------------+-----------------+--------------+----+------+--------+-----+\n",
            "|Benício Iago Silveira      |1900-01-01                   |000.000.000-00   |O+            |97.0|1.72  |1       |0    |\n",
            "|Lucca Carlos Ferreira      |1900-01-01                   |033.608.164-20   |O-            |99.0|1.74  |1       |0    |\n",
            "+---------------------------+-----------------------------+-----------------+--------------+----+------+--------+-----+\n",
            "only showing top 2 rows\n",
            "\n",
            "None\n",
            "+------------------------------+-----------------------------+-----------------+--------------+----+------+--------+-----+\n",
            "|nome_completo_dados_medicos   |data_nascimento_dados_medicos|cpf_dados_medicos|tipo_sanguineo|peso|altura|nasc_mes|cpf_0|\n",
            "+------------------------------+-----------------------------+-----------------+--------------+----+------+--------+-----+\n",
            "|Anthoni Raimundo Corte Real   |1900-01-01                   |190.030.752-98   |B+            |54.0|1.89  |1       |1    |\n",
            "|Benedito Marcos Vinicius Tomás|1949-03-20                   |113.623.933-20   |A-            |73.0|1.94  |3       |1    |\n",
            "+------------------------------+-----------------------------+-----------------+--------------+----+------+--------+-----+\n",
            "only showing top 2 rows\n",
            "\n",
            "None\n",
            "+------------------------------+-----------------------------+-----------------+--------------+-----+------+--------+-----+\n",
            "|nome_completo_dados_medicos   |data_nascimento_dados_medicos|cpf_dados_medicos|tipo_sanguineo|peso |altura|nasc_mes|cpf_0|\n",
            "+------------------------------+-----------------------------+-----------------+--------------+-----+------+--------+-----+\n",
            "|Anderson Raul Rafael Assuncão |1900-02-20                   |241.865.832-50   |AB+           |54.0 |1.75  |2       |2    |\n",
            "|Manoel Lorenzo Manuel Rodrigue|1966-07-25                   |274.965.803-92   |A-            |103.0|1.99  |7       |2    |\n",
            "+------------------------------+-----------------------------+-----------------+--------------+-----+------+--------+-----+\n",
            "only showing top 2 rows\n",
            "\n",
            "None\n",
            "+---------------------------+-----------------------------+-----------------+--------------+----+------+--------+-----+\n",
            "|nome_completo_dados_medicos|data_nascimento_dados_medicos|cpf_dados_medicos|tipo_sanguineo|peso|altura|nasc_mes|cpf_0|\n",
            "+---------------------------+-----------------------------+-----------------+--------------+----+------+--------+-----+\n",
            "|Kaue César Lima            |1900-01-01                   |315.154.132-17   |AB-           |62.0|1.99  |1       |3    |\n",
            "|Rafaela Francisca Mendes   |1974-11-07                   |310.874.646-41   |O+            |46.0|1.74  |11      |3    |\n",
            "+---------------------------+-----------------------------+-----------------+--------------+----+------+--------+-----+\n",
            "only showing top 2 rows\n",
            "\n",
            "None\n",
            "+---------------------------+-----------------------------+-----------------+--------------+----+------+--------+-----+\n",
            "|nome_completo_dados_medicos|data_nascimento_dados_medicos|cpf_dados_medicos|tipo_sanguineo|peso|altura|nasc_mes|cpf_0|\n",
            "+---------------------------+-----------------------------+-----------------+--------------+----+------+--------+-----+\n",
            "|Rayssa Simone Pereira      |1963-10-02                   |430.583.444-81   |A+            |57.0|1.76  |10      |4    |\n",
            "|Juliana Evelyn Corte Real  |1950-10-17                   |482.088.833-10   |O-            |58.0|1.8   |10      |4    |\n",
            "+---------------------------+-----------------------------+-----------------+--------------+----+------+--------+-----+\n",
            "only showing top 2 rows\n",
            "\n",
            "None\n",
            "+---------------------------+-----------------------------+-----------------+--------------+----+------+--------+-----+\n",
            "|nome_completo_dados_medicos|data_nascimento_dados_medicos|cpf_dados_medicos|tipo_sanguineo|peso|altura|nasc_mes|cpf_0|\n",
            "+---------------------------+-----------------------------+-----------------+--------------+----+------+--------+-----+\n",
            "|Alice Liz Adriana Duarte   |1975-10-22                   |585.480.993-13   |O-            |89.0|1.57  |10      |5    |\n",
            "|Otávio Felipe Henry Almeida|1951-01-10                   |582.717.111-56   |A-            |85.0|1.66  |1       |5    |\n",
            "+---------------------------+-----------------------------+-----------------+--------------+----+------+--------+-----+\n",
            "only showing top 2 rows\n",
            "\n",
            "None\n",
            "+---------------------------+-----------------------------+-----------------+--------------+----+------+--------+-----+\n",
            "|nome_completo_dados_medicos|data_nascimento_dados_medicos|cpf_dados_medicos|tipo_sanguineo|peso|altura|nasc_mes|cpf_0|\n",
            "+---------------------------+-----------------------------+-----------------+--------------+----+------+--------+-----+\n",
            "|Bryan Joaquim Roberto Rosa |1957-09-07                   |616.062.471-74   |AB-           |66.0|1.67  |9       |6    |\n",
            "|Caue Nicolas Moura         |1900-01-01                   |628.903.725-02   |B-            |82.0|1.68  |1       |6    |\n",
            "+---------------------------+-----------------------------+-----------------+--------------+----+------+--------+-----+\n",
            "only showing top 2 rows\n",
            "\n",
            "None\n",
            "+---------------------------+-----------------------------+-----------------+--------------+----+------+--------+-----+\n",
            "|nome_completo_dados_medicos|data_nascimento_dados_medicos|cpf_dados_medicos|tipo_sanguineo|peso|altura|nasc_mes|cpf_0|\n",
            "+---------------------------+-----------------------------+-----------------+--------------+----+------+--------+-----+\n",
            "|Bárbara Analu Monteiro     |1965-12-25                   |735.348.238-93   |O-            |46.0|1.62  |12      |7    |\n",
            "|Giovanni Ian Drumond       |1959-02-08                   |754.846.254-91   |AB-           |65.0|1.91  |2       |7    |\n",
            "+---------------------------+-----------------------------+-----------------+--------------+----+------+--------+-----+\n",
            "only showing top 2 rows\n",
            "\n",
            "None\n",
            "+---------------------------+-----------------------------+-----------------+--------------+-----+------+--------+-----+\n",
            "|nome_completo_dados_medicos|data_nascimento_dados_medicos|cpf_dados_medicos|tipo_sanguineo|peso |altura|nasc_mes|cpf_0|\n",
            "+---------------------------+-----------------------------+-----------------+--------------+-----+------+--------+-----+\n",
            "|Calebe Gustavo Davi Cruz   |1900-01-01                   |895.108.738-70   |B+            |106.0|1.64  |1       |8    |\n",
            "|Raimundo Rodrigo Rosa      |1900-01-01                   |851.786.064-00   |B-            |81.0 |1.85  |1       |8    |\n",
            "+---------------------------+-----------------------------+-----------------+--------------+-----+------+--------+-----+\n",
            "only showing top 2 rows\n",
            "\n",
            "None\n",
            "+-----------------------------+-----------------------------+-----------------+--------------+----+------+--------+-----+\n",
            "|nome_completo_dados_medicos  |data_nascimento_dados_medicos|cpf_dados_medicos|tipo_sanguineo|peso|altura|nasc_mes|cpf_0|\n",
            "+-----------------------------+-----------------------------+-----------------+--------------+----+------+--------+-----+\n",
            "|Sabrina Natália Lorena Vieira|1900-01-01                   |910.348.608-79   |A+            |74.0|1.5   |1       |9    |\n",
            "|Rodrigo Luís Figueiredo      |1955-09-02                   |995.789.859-08   |B-            |90.0|1.84  |9       |9    |\n",
            "+-----------------------------+-----------------------------+-----------------+--------------+----+------+--------+-----+\n",
            "only showing top 2 rows\n",
            "\n",
            "None\n"
          ]
        }
      ]
    },
    {
      "cell_type": "code",
      "source": [
        "cadastro_blocos['0'].show(2, truncate=False)\n",
        "dados_medicos_blocos['0'].show(2, truncate=False)"
      ],
      "metadata": {
        "colab": {
          "base_uri": "https://localhost:8080/"
        },
        "id": "r6m0g4XY-7ZM",
        "outputId": "2d7e5040-bfc9-4f9d-a0a6-29bfbfb355fe"
      },
      "execution_count": 40,
      "outputs": [
        {
          "output_type": "stream",
          "name": "stdout",
          "text": [
            "+---------------------------------+---------------+--------------+------------------+----------+--------------------------------------------------------------------------------+-------------+--------+-----+\n",
            "|nome_completo                    |data_nascimento|cpf           |nome_mae          |celular   |email                                                                           |telefone_fixo|nasc_mes|cpf_0|\n",
            "+---------------------------------+---------------+--------------+------------------+----------+--------------------------------------------------------------------------------+-------------+--------+-----+\n",
            "|Lúcia Carolina Luzia Almada      |1946-11-11     |064.804.171-94|Stefany Teresinha |99727-5887|luciacarolinaluziaalmada_@santarte.com                                          |2744-6850    |11      |0    |\n",
            "|Sabrina Aparecida Mirella Ribeiro|1993-05-17     |067.127.576-30|Cláudia Sophia    |99180-6203|sabrinaaparecidamirellaribeiro__sabrinaaparecidamirellaribeiro@wwlimpador.com.br|3829-9799    |5       |0    |\n",
            "+---------------------------------+---------------+--------------+------------------+----------+--------------------------------------------------------------------------------+-------------+--------+-----+\n",
            "only showing top 2 rows\n",
            "\n",
            "+---------------------------+-----------------------------+-----------------+--------------+----+------+--------+-----+\n",
            "|nome_completo_dados_medicos|data_nascimento_dados_medicos|cpf_dados_medicos|tipo_sanguineo|peso|altura|nasc_mes|cpf_0|\n",
            "+---------------------------+-----------------------------+-----------------+--------------+----+------+--------+-----+\n",
            "|Benício Iago Silveira      |1900-01-01                   |000.000.000-00   |O+            |97.0|1.72  |1       |0    |\n",
            "|Lucca Carlos Ferreira      |1900-01-01                   |033.608.164-20   |O-            |99.0|1.74  |1       |0    |\n",
            "+---------------------------+-----------------------------+-----------------+--------------+----+------+--------+-----+\n",
            "only showing top 2 rows\n",
            "\n"
          ]
        }
      ]
    },
    {
      "cell_type": "markdown",
      "source": [
        "### Join entre informações"
      ],
      "metadata": {
        "id": "Po6sLzVtZuEJ"
      }
    },
    {
      "cell_type": "code",
      "source": [
        "df_join = df_cadastro.join(df_dados_medicos, df_dados_medicos[\"cpf_dados_medicos\"] == df_cadastro[\"cpf\"], \"inner\") #.drop(\"nome_completo_dados_medicos\", \"data_nascimento_dados_medicos\")"
      ],
      "metadata": {
        "id": "s-9vdp5RZz2t"
      },
      "execution_count": 41,
      "outputs": []
    },
    {
      "cell_type": "code",
      "source": [
        "df_join.show(5, False)"
      ],
      "metadata": {
        "colab": {
          "base_uri": "https://localhost:8080/"
        },
        "id": "P3spy_yz1chf",
        "outputId": "35f6397b-c954-4839-e7e7-76a92afae56c"
      },
      "execution_count": 42,
      "outputs": [
        {
          "output_type": "stream",
          "name": "stdout",
          "text": [
            "+-------------------------------+---------------+--------------+----------------------+----------+---------------------------------------------------------------------+-------------+--------+-----+------------------------------+-----------------------------+-----------------+--------------+----+------+--------+-----+\n",
            "|nome_completo                  |data_nascimento|cpf           |nome_mae              |celular   |email                                                                |telefone_fixo|nasc_mes|cpf_0|nome_completo_dados_medicos   |data_nascimento_dados_medicos|cpf_dados_medicos|tipo_sanguineo|peso|altura|nasc_mes|cpf_0|\n",
            "+-------------------------------+---------------+--------------+----------------------+----------+---------------------------------------------------------------------+-------------+--------+-----+------------------------------+-----------------------------+-----------------+--------------+----+------+--------+-----+\n",
            "|Cauã Isaac Caldeira            |1945-03-02     |350.835.281-18|Vitória Kamilly Sueli |98904-8340|cauaisaaccaldeira__cauaisaaccaldeira@hardquality.com.br              |2831-7237    |3       |3    |Cauã Isaac Caldeira           |1945-03-02                   |350.835.281-18   |A+            |54.0|1.68  |3       |3    |\n",
            "|Lúcia Carolina Luzia Almada    |1946-11-11     |064.804.171-94|Stefany Teresinha     |99727-5887|luciacarolinaluziaalmada_@santarte.com                               |2744-6850    |11      |0    |Lúcia C Luzia Almada          |1900-11-11                   |064.804.171-94   |A-            |49.0|1.54  |11      |0    |\n",
            "|Vicente Marcos Edson Castro    |1959-01-15     |721.921.584-32|Cecília Laura Larissa |99456-0743|vicentemarcosedsoncastro-74@lavorosjc.com.br                         |2858-1372    |1       |7    |Vicente Marcos Edson Castro   |1959-01-15                   |721.921.584-32   |A-            |65.0|1.88  |1       |7    |\n",
            "|Yago Pedro Henrique da Cruz    |1945-10-24     |683.283.105-62|Cristiane Pietra      |98234-0551|yagopedrohenriquedacruz_@elevaconsultancy.com.br                     |2518-9906    |10      |6    |Yago Pedro Henrique Cruz      |1945-10-24                   |683.283.105-62   |O+            |57.0|1.63  |10      |6    |\n",
            "|Valentina Stefany Alana Cardoso|1953-03-23     |762.984.237-61|Francisca Adriana     |99997-6430|valentinastefanyalanacardoso..valentinastefanyalanacardoso@galvao.com|2658-4091    |3       |7    |Valentina Stefany Alana Cardos|1953-03-23                   |762.984.237-61   |AB-           |71.0|1.64  |3       |7    |\n",
            "+-------------------------------+---------------+--------------+----------------------+----------+---------------------------------------------------------------------+-------------+--------+-----+------------------------------+-----------------------------+-----------------+--------------+----+------+--------+-----+\n",
            "only showing top 5 rows\n",
            "\n"
          ]
        }
      ]
    },
    {
      "cell_type": "markdown",
      "metadata": {
        "id": "B1CVKuAHFrAB"
      },
      "source": [
        "## Exercício 4: Comparação par a par\n",
        "*    Desenvolver um algoritmo de comparação de cada match potencial do exercício anterior\n",
        "*    Definir uma nota de similaridade para cada comparação\n",
        " *   Para cada parâmetro"
      ]
    },
    {
      "cell_type": "markdown",
      "source": [
        "#### Função de similaridade para nomes usando fuzzy matching"
      ],
      "metadata": {
        "id": "aztYjhIP0WUV"
      }
    },
    {
      "cell_type": "code",
      "source": [
        "def nome_similarity(nome1, nome2):\n",
        "    if nome1 == nome2:\n",
        "        return 1.0\n",
        "    return fuzz.token_sort_ratio(nome1, nome2) / 100\n",
        "\n",
        "# Registrar a função como UDF\n",
        "nome_similarity_udf = udf(nome_similarity, FloatType())"
      ],
      "metadata": {
        "id": "9KSaOiFgemlk"
      },
      "execution_count": 43,
      "outputs": []
    },
    {
      "cell_type": "markdown",
      "source": [
        "#### Função de comparação para CPF e Data de Nascimento"
      ],
      "metadata": {
        "id": "HO_QNqxv0axE"
      }
    },
    {
      "cell_type": "code",
      "source": [
        "def comparaRegistros(dados_medicos, cadastro):\n",
        "    # Comparação de CPF (1 se igual, 0 caso contrário)\n",
        "    cpf_match = when(dados_medicos[\"cpf_dados_medicos\"] == cadastro[\"cpf\"], 1).otherwise(0)\n",
        "\n",
        "    # Comparação de Data de Nascimento exata ou com troca de mês e dia\n",
        "    data_nasc_match = when(\n",
        "        (dados_medicos[\"data_nascimento_dados_medicos\"] == cadastro[\"data_nascimento\"]) |\n",
        "        ((dados_medicos[\"nasc_mes\"] == cadastro[\"nasc_mes\"])), 1\n",
        "    ).otherwise(0)\n",
        "\n",
        "    # Comparação de Nome (similaridade usando a função UDF)\n",
        "    nome_match = nome_similarity_udf(dados_medicos[\"nome_completo_dados_medicos\"], cadastro[\"nome_completo\"])\n",
        "\n",
        "    return cpf_match, nome_match, data_nasc_match"
      ],
      "metadata": {
        "id": "Vg2YM4OXeu_r"
      },
      "execution_count": 44,
      "outputs": []
    },
    {
      "cell_type": "code",
      "source": [
        "df_join.show(5, False)"
      ],
      "metadata": {
        "colab": {
          "base_uri": "https://localhost:8080/"
        },
        "id": "yWIWVBEkfG9U",
        "outputId": "7203650b-ade5-4d38-c13b-09a8994a1598"
      },
      "execution_count": 45,
      "outputs": [
        {
          "output_type": "stream",
          "name": "stdout",
          "text": [
            "+-------------------------------+---------------+--------------+----------------------+----------+---------------------------------------------------------------------+-------------+--------+-----+------------------------------+-----------------------------+-----------------+--------------+----+------+--------+-----+\n",
            "|nome_completo                  |data_nascimento|cpf           |nome_mae              |celular   |email                                                                |telefone_fixo|nasc_mes|cpf_0|nome_completo_dados_medicos   |data_nascimento_dados_medicos|cpf_dados_medicos|tipo_sanguineo|peso|altura|nasc_mes|cpf_0|\n",
            "+-------------------------------+---------------+--------------+----------------------+----------+---------------------------------------------------------------------+-------------+--------+-----+------------------------------+-----------------------------+-----------------+--------------+----+------+--------+-----+\n",
            "|Cauã Isaac Caldeira            |1945-03-02     |350.835.281-18|Vitória Kamilly Sueli |98904-8340|cauaisaaccaldeira__cauaisaaccaldeira@hardquality.com.br              |2831-7237    |3       |3    |Cauã Isaac Caldeira           |1945-03-02                   |350.835.281-18   |A+            |54.0|1.68  |3       |3    |\n",
            "|Lúcia Carolina Luzia Almada    |1946-11-11     |064.804.171-94|Stefany Teresinha     |99727-5887|luciacarolinaluziaalmada_@santarte.com                               |2744-6850    |11      |0    |Lúcia C Luzia Almada          |1900-11-11                   |064.804.171-94   |A-            |49.0|1.54  |11      |0    |\n",
            "|Vicente Marcos Edson Castro    |1959-01-15     |721.921.584-32|Cecília Laura Larissa |99456-0743|vicentemarcosedsoncastro-74@lavorosjc.com.br                         |2858-1372    |1       |7    |Vicente Marcos Edson Castro   |1959-01-15                   |721.921.584-32   |A-            |65.0|1.88  |1       |7    |\n",
            "|Yago Pedro Henrique da Cruz    |1945-10-24     |683.283.105-62|Cristiane Pietra      |98234-0551|yagopedrohenriquedacruz_@elevaconsultancy.com.br                     |2518-9906    |10      |6    |Yago Pedro Henrique Cruz      |1945-10-24                   |683.283.105-62   |O+            |57.0|1.63  |10      |6    |\n",
            "|Valentina Stefany Alana Cardoso|1953-03-23     |762.984.237-61|Francisca Adriana     |99997-6430|valentinastefanyalanacardoso..valentinastefanyalanacardoso@galvao.com|2658-4091    |3       |7    |Valentina Stefany Alana Cardos|1953-03-23                   |762.984.237-61   |AB-           |71.0|1.64  |3       |7    |\n",
            "+-------------------------------+---------------+--------------+----------------------+----------+---------------------------------------------------------------------+-------------+--------+-----+------------------------------+-----------------------------+-----------------+--------------+----+------+--------+-----+\n",
            "only showing top 5 rows\n",
            "\n"
          ]
        }
      ]
    },
    {
      "cell_type": "markdown",
      "source": [
        "#### Adicionando pares de similaridade com Nome, CPF, Data de nascimento e soma"
      ],
      "metadata": {
        "id": "y4-7oubH0jdG"
      }
    },
    {
      "cell_type": "code",
      "source": [
        "# Para cada bloco de CPF\n",
        "pares = []\n",
        "\n",
        "for i in range(10):\n",
        "    print(f\"CPF começando com {i}\")\n",
        "\n",
        "    dados_medicos_df = dados_medicos_blocos[f\"{i}\"]\n",
        "    cadastro_df = cadastro_blocos[f\"{i}\"]\n",
        "\n",
        "    dados_medicos_df.printSchema()\n",
        "    cadastro_df.printSchema()\n",
        "\n",
        "    cpf_match, nome_match, data_nasc_match = comparaRegistros(dados_medicos_df, cadastro_df)\n",
        "\n",
        "    # Adicionar colunas de similaridade e somar para calcular simSum\n",
        "    comparacao_df = df_join \\\n",
        "        .withColumn(\"cpf_similaridade\", cpf_match) \\\n",
        "        .withColumn(\"nome_similaridade\", nome_match) \\\n",
        "        .withColumn(\"data_nasc_similaridade\", data_nasc_match) \\\n",
        "        .withColumn(\"simSum\", col(\"cpf_similaridade\") + col(\"data_nasc_similaridade\") + col(\"nome_similaridade\"))\n",
        "\n",
        "    # Adicionar ao resultado final\n",
        "    pares.append(comparacao_df)"
      ],
      "metadata": {
        "colab": {
          "base_uri": "https://localhost:8080/"
        },
        "id": "zCJvcORkfVkC",
        "outputId": "df906ae0-0519-42eb-e653-7de15d3aee22"
      },
      "execution_count": 46,
      "outputs": [
        {
          "output_type": "stream",
          "name": "stdout",
          "text": [
            "CPF começando com 0\n",
            "root\n",
            " |-- nome_completo_dados_medicos: string (nullable = true)\n",
            " |-- data_nascimento_dados_medicos: date (nullable = true)\n",
            " |-- cpf_dados_medicos: string (nullable = true)\n",
            " |-- tipo_sanguineo: string (nullable = true)\n",
            " |-- peso: float (nullable = true)\n",
            " |-- altura: float (nullable = true)\n",
            " |-- nasc_mes: integer (nullable = true)\n",
            " |-- cpf_0: string (nullable = true)\n",
            "\n",
            "root\n",
            " |-- nome_completo: string (nullable = true)\n",
            " |-- data_nascimento: date (nullable = true)\n",
            " |-- cpf: string (nullable = true)\n",
            " |-- nome_mae: string (nullable = true)\n",
            " |-- celular: string (nullable = true)\n",
            " |-- email: string (nullable = true)\n",
            " |-- telefone_fixo: string (nullable = true)\n",
            " |-- nasc_mes: integer (nullable = true)\n",
            " |-- cpf_0: string (nullable = true)\n",
            "\n",
            "CPF começando com 1\n",
            "root\n",
            " |-- nome_completo_dados_medicos: string (nullable = true)\n",
            " |-- data_nascimento_dados_medicos: date (nullable = true)\n",
            " |-- cpf_dados_medicos: string (nullable = true)\n",
            " |-- tipo_sanguineo: string (nullable = true)\n",
            " |-- peso: float (nullable = true)\n",
            " |-- altura: float (nullable = true)\n",
            " |-- nasc_mes: integer (nullable = true)\n",
            " |-- cpf_0: string (nullable = true)\n",
            "\n",
            "root\n",
            " |-- nome_completo: string (nullable = true)\n",
            " |-- data_nascimento: date (nullable = true)\n",
            " |-- cpf: string (nullable = true)\n",
            " |-- nome_mae: string (nullable = true)\n",
            " |-- celular: string (nullable = true)\n",
            " |-- email: string (nullable = true)\n",
            " |-- telefone_fixo: string (nullable = true)\n",
            " |-- nasc_mes: integer (nullable = true)\n",
            " |-- cpf_0: string (nullable = true)\n",
            "\n",
            "CPF começando com 2\n",
            "root\n",
            " |-- nome_completo_dados_medicos: string (nullable = true)\n",
            " |-- data_nascimento_dados_medicos: date (nullable = true)\n",
            " |-- cpf_dados_medicos: string (nullable = true)\n",
            " |-- tipo_sanguineo: string (nullable = true)\n",
            " |-- peso: float (nullable = true)\n",
            " |-- altura: float (nullable = true)\n",
            " |-- nasc_mes: integer (nullable = true)\n",
            " |-- cpf_0: string (nullable = true)\n",
            "\n",
            "root\n",
            " |-- nome_completo: string (nullable = true)\n",
            " |-- data_nascimento: date (nullable = true)\n",
            " |-- cpf: string (nullable = true)\n",
            " |-- nome_mae: string (nullable = true)\n",
            " |-- celular: string (nullable = true)\n",
            " |-- email: string (nullable = true)\n",
            " |-- telefone_fixo: string (nullable = true)\n",
            " |-- nasc_mes: integer (nullable = true)\n",
            " |-- cpf_0: string (nullable = true)\n",
            "\n",
            "CPF começando com 3\n",
            "root\n",
            " |-- nome_completo_dados_medicos: string (nullable = true)\n",
            " |-- data_nascimento_dados_medicos: date (nullable = true)\n",
            " |-- cpf_dados_medicos: string (nullable = true)\n",
            " |-- tipo_sanguineo: string (nullable = true)\n",
            " |-- peso: float (nullable = true)\n",
            " |-- altura: float (nullable = true)\n",
            " |-- nasc_mes: integer (nullable = true)\n",
            " |-- cpf_0: string (nullable = true)\n",
            "\n",
            "root\n",
            " |-- nome_completo: string (nullable = true)\n",
            " |-- data_nascimento: date (nullable = true)\n",
            " |-- cpf: string (nullable = true)\n",
            " |-- nome_mae: string (nullable = true)\n",
            " |-- celular: string (nullable = true)\n",
            " |-- email: string (nullable = true)\n",
            " |-- telefone_fixo: string (nullable = true)\n",
            " |-- nasc_mes: integer (nullable = true)\n",
            " |-- cpf_0: string (nullable = true)\n",
            "\n",
            "CPF começando com 4\n",
            "root\n",
            " |-- nome_completo_dados_medicos: string (nullable = true)\n",
            " |-- data_nascimento_dados_medicos: date (nullable = true)\n",
            " |-- cpf_dados_medicos: string (nullable = true)\n",
            " |-- tipo_sanguineo: string (nullable = true)\n",
            " |-- peso: float (nullable = true)\n",
            " |-- altura: float (nullable = true)\n",
            " |-- nasc_mes: integer (nullable = true)\n",
            " |-- cpf_0: string (nullable = true)\n",
            "\n",
            "root\n",
            " |-- nome_completo: string (nullable = true)\n",
            " |-- data_nascimento: date (nullable = true)\n",
            " |-- cpf: string (nullable = true)\n",
            " |-- nome_mae: string (nullable = true)\n",
            " |-- celular: string (nullable = true)\n",
            " |-- email: string (nullable = true)\n",
            " |-- telefone_fixo: string (nullable = true)\n",
            " |-- nasc_mes: integer (nullable = true)\n",
            " |-- cpf_0: string (nullable = true)\n",
            "\n",
            "CPF começando com 5\n",
            "root\n",
            " |-- nome_completo_dados_medicos: string (nullable = true)\n",
            " |-- data_nascimento_dados_medicos: date (nullable = true)\n",
            " |-- cpf_dados_medicos: string (nullable = true)\n",
            " |-- tipo_sanguineo: string (nullable = true)\n",
            " |-- peso: float (nullable = true)\n",
            " |-- altura: float (nullable = true)\n",
            " |-- nasc_mes: integer (nullable = true)\n",
            " |-- cpf_0: string (nullable = true)\n",
            "\n",
            "root\n",
            " |-- nome_completo: string (nullable = true)\n",
            " |-- data_nascimento: date (nullable = true)\n",
            " |-- cpf: string (nullable = true)\n",
            " |-- nome_mae: string (nullable = true)\n",
            " |-- celular: string (nullable = true)\n",
            " |-- email: string (nullable = true)\n",
            " |-- telefone_fixo: string (nullable = true)\n",
            " |-- nasc_mes: integer (nullable = true)\n",
            " |-- cpf_0: string (nullable = true)\n",
            "\n",
            "CPF começando com 6\n",
            "root\n",
            " |-- nome_completo_dados_medicos: string (nullable = true)\n",
            " |-- data_nascimento_dados_medicos: date (nullable = true)\n",
            " |-- cpf_dados_medicos: string (nullable = true)\n",
            " |-- tipo_sanguineo: string (nullable = true)\n",
            " |-- peso: float (nullable = true)\n",
            " |-- altura: float (nullable = true)\n",
            " |-- nasc_mes: integer (nullable = true)\n",
            " |-- cpf_0: string (nullable = true)\n",
            "\n",
            "root\n",
            " |-- nome_completo: string (nullable = true)\n",
            " |-- data_nascimento: date (nullable = true)\n",
            " |-- cpf: string (nullable = true)\n",
            " |-- nome_mae: string (nullable = true)\n",
            " |-- celular: string (nullable = true)\n",
            " |-- email: string (nullable = true)\n",
            " |-- telefone_fixo: string (nullable = true)\n",
            " |-- nasc_mes: integer (nullable = true)\n",
            " |-- cpf_0: string (nullable = true)\n",
            "\n",
            "CPF começando com 7\n",
            "root\n",
            " |-- nome_completo_dados_medicos: string (nullable = true)\n",
            " |-- data_nascimento_dados_medicos: date (nullable = true)\n",
            " |-- cpf_dados_medicos: string (nullable = true)\n",
            " |-- tipo_sanguineo: string (nullable = true)\n",
            " |-- peso: float (nullable = true)\n",
            " |-- altura: float (nullable = true)\n",
            " |-- nasc_mes: integer (nullable = true)\n",
            " |-- cpf_0: string (nullable = true)\n",
            "\n",
            "root\n",
            " |-- nome_completo: string (nullable = true)\n",
            " |-- data_nascimento: date (nullable = true)\n",
            " |-- cpf: string (nullable = true)\n",
            " |-- nome_mae: string (nullable = true)\n",
            " |-- celular: string (nullable = true)\n",
            " |-- email: string (nullable = true)\n",
            " |-- telefone_fixo: string (nullable = true)\n",
            " |-- nasc_mes: integer (nullable = true)\n",
            " |-- cpf_0: string (nullable = true)\n",
            "\n",
            "CPF começando com 8\n",
            "root\n",
            " |-- nome_completo_dados_medicos: string (nullable = true)\n",
            " |-- data_nascimento_dados_medicos: date (nullable = true)\n",
            " |-- cpf_dados_medicos: string (nullable = true)\n",
            " |-- tipo_sanguineo: string (nullable = true)\n",
            " |-- peso: float (nullable = true)\n",
            " |-- altura: float (nullable = true)\n",
            " |-- nasc_mes: integer (nullable = true)\n",
            " |-- cpf_0: string (nullable = true)\n",
            "\n",
            "root\n",
            " |-- nome_completo: string (nullable = true)\n",
            " |-- data_nascimento: date (nullable = true)\n",
            " |-- cpf: string (nullable = true)\n",
            " |-- nome_mae: string (nullable = true)\n",
            " |-- celular: string (nullable = true)\n",
            " |-- email: string (nullable = true)\n",
            " |-- telefone_fixo: string (nullable = true)\n",
            " |-- nasc_mes: integer (nullable = true)\n",
            " |-- cpf_0: string (nullable = true)\n",
            "\n",
            "CPF começando com 9\n",
            "root\n",
            " |-- nome_completo_dados_medicos: string (nullable = true)\n",
            " |-- data_nascimento_dados_medicos: date (nullable = true)\n",
            " |-- cpf_dados_medicos: string (nullable = true)\n",
            " |-- tipo_sanguineo: string (nullable = true)\n",
            " |-- peso: float (nullable = true)\n",
            " |-- altura: float (nullable = true)\n",
            " |-- nasc_mes: integer (nullable = true)\n",
            " |-- cpf_0: string (nullable = true)\n",
            "\n",
            "root\n",
            " |-- nome_completo: string (nullable = true)\n",
            " |-- data_nascimento: date (nullable = true)\n",
            " |-- cpf: string (nullable = true)\n",
            " |-- nome_mae: string (nullable = true)\n",
            " |-- celular: string (nullable = true)\n",
            " |-- email: string (nullable = true)\n",
            " |-- telefone_fixo: string (nullable = true)\n",
            " |-- nasc_mes: integer (nullable = true)\n",
            " |-- cpf_0: string (nullable = true)\n",
            "\n"
          ]
        }
      ]
    },
    {
      "cell_type": "markdown",
      "source": [
        "#### Unir todos os blocos em um único DataFrame e Filtro por tipo de similaridade"
      ],
      "metadata": {
        "id": "Rj572W7P0xhY"
      }
    },
    {
      "cell_type": "code",
      "source": [
        "pares_df = pares[0]\n",
        "for p in pares[1:]:\n",
        "    pares_df = pares_df.union(p)\n",
        "\n",
        "# Filtrar os DataFrames por tipo de similaridade\n",
        "matches = pares_df.filter(pares_df.simSum >= 2.5)\n",
        "potenciais = pares_df.filter((pares_df.simSum < 2.5) & (pares_df.simSum >= 1.5))\n",
        "non_matches = pares_df.filter(pares_df.simSum < 1.5)\n",
        "\n",
        "\n",
        "print(\"Matches:\")\n",
        "matches.show(2, False)\n",
        "\n",
        "print(\"\\nPotenciais:\")\n",
        "potenciais.show(2, False)\n",
        "\n",
        "print(\"\\nNon-matches:\")\n",
        "non_matches.show(2, False)"
      ],
      "metadata": {
        "id": "pgCPXFGbDeT4",
        "colab": {
          "base_uri": "https://localhost:8080/"
        },
        "outputId": "f5cd6ee8-a8b1-48d1-a47a-d934dd8c2bff"
      },
      "execution_count": 47,
      "outputs": [
        {
          "output_type": "stream",
          "name": "stdout",
          "text": [
            "Matches:\n",
            "+---------------------------+---------------+--------------+----------------------+----------+-------------------------------------------------------+-------------+--------+-----+---------------------------+-----------------------------+-----------------+--------------+----+------+--------+-----+----------------+-----------------+----------------------+------+\n",
            "|nome_completo              |data_nascimento|cpf           |nome_mae              |celular   |email                                                  |telefone_fixo|nasc_mes|cpf_0|nome_completo_dados_medicos|data_nascimento_dados_medicos|cpf_dados_medicos|tipo_sanguineo|peso|altura|nasc_mes|cpf_0|cpf_similaridade|nome_similaridade|data_nasc_similaridade|simSum|\n",
            "+---------------------------+---------------+--------------+----------------------+----------+-------------------------------------------------------+-------------+--------+-----+---------------------------+-----------------------------+-----------------+--------------+----+------+--------+-----+----------------+-----------------+----------------------+------+\n",
            "|Cauã Isaac Caldeira        |1945-03-02     |350.835.281-18|Vitória Kamilly Sueli |98904-8340|cauaisaaccaldeira__cauaisaaccaldeira@hardquality.com.br|2831-7237    |3       |3    |Cauã Isaac Caldeira        |1945-03-02                   |350.835.281-18   |A+            |54.0|1.68  |3       |3    |1               |1.0              |1                     |3.0   |\n",
            "|Lúcia Carolina Luzia Almada|1946-11-11     |064.804.171-94|Stefany Teresinha     |99727-5887|luciacarolinaluziaalmada_@santarte.com                 |2744-6850    |11      |0    |Lúcia C Luzia Almada       |1900-11-11                   |064.804.171-94   |A-            |49.0|1.54  |11      |0    |1               |0.84             |1                     |2.84  |\n",
            "+---------------------------+---------------+--------------+----------------------+----------+-------------------------------------------------------+-------------+--------+-----+---------------------------+-----------------------------+-----------------+--------------+----+------+--------+-----+----------------+-----------------+----------------------+------+\n",
            "only showing top 2 rows\n",
            "\n",
            "\n",
            "Potenciais:\n",
            "+------------------------------+---------------+--------------+-----------------------+----------+---------------------------------------------------+-------------+--------+-----+------------------------------+-----------------------------+-----------------+--------------+----+------+--------+-----+----------------+-----------------+----------------------+------+\n",
            "|nome_completo                 |data_nascimento|cpf           |nome_mae               |celular   |email                                              |telefone_fixo|nasc_mes|cpf_0|nome_completo_dados_medicos   |data_nascimento_dados_medicos|cpf_dados_medicos|tipo_sanguineo|peso|altura|nasc_mes|cpf_0|cpf_similaridade|nome_similaridade|data_nasc_similaridade|simSum|\n",
            "+------------------------------+---------------+--------------+-----------------------+----------+---------------------------------------------------+-------------+--------+-----+------------------------------+-----------------------------+-----------------+--------------+----+------+--------+-----+----------------+-----------------+----------------------+------+\n",
            "|Priscila Julia Márcia Baptista|2001-09-17     |721.598.013-80|Teresinha Renata Tânia |98554-2615|priscilajuliamarciabaptista_@validtecnologia.com.br|2703-1458    |9       |7    |Priscila Julia Márcia Baptista|1900-01-01                   |721.598.013-80   |AB+           |87.0|1.76  |1       |7    |1               |1.0              |0                     |2.0   |\n",
            "|Nicole Alana Almada           |1968-09-09     |126.930.804-10|Benedita Emilly        |99882-0097|nicolealanaalmada-80@facilitycom.com.br            |2699-9031    |9       |1    |Nicole Alana Almada           |1900-01-01                   |126.930.804-10   |AB-           |49.0|1.75  |1       |1    |1               |1.0              |0                     |2.0   |\n",
            "+------------------------------+---------------+--------------+-----------------------+----------+---------------------------------------------------+-------------+--------+-----+------------------------------+-----------------------------+-----------------+--------------+----+------+--------+-----+----------------+-----------------+----------------------+------+\n",
            "only showing top 2 rows\n",
            "\n",
            "\n",
            "Non-matches:\n",
            "+-------------+---------------+---+--------+-------+-----+-------------+--------+-----+---------------------------+-----------------------------+-----------------+--------------+----+------+--------+-----+----------------+-----------------+----------------------+------+\n",
            "|nome_completo|data_nascimento|cpf|nome_mae|celular|email|telefone_fixo|nasc_mes|cpf_0|nome_completo_dados_medicos|data_nascimento_dados_medicos|cpf_dados_medicos|tipo_sanguineo|peso|altura|nasc_mes|cpf_0|cpf_similaridade|nome_similaridade|data_nasc_similaridade|simSum|\n",
            "+-------------+---------------+---+--------+-------+-----+-------------+--------+-----+---------------------------+-----------------------------+-----------------+--------------+----+------+--------+-----+----------------+-----------------+----------------------+------+\n",
            "+-------------+---------------+---+--------+-------+-----+-------------+--------+-----+---------------------------+-----------------------------+-----------------+--------------+----+------+--------+-----+----------------+-----------------+----------------------+------+\n",
            "\n"
          ]
        }
      ]
    },
    {
      "cell_type": "markdown",
      "metadata": {
        "id": "llXsKDA5GBfh"
      },
      "source": [
        "## Exercício 5: Classificação\n",
        "*    Classificar cada par, baseado num threshold\n",
        "*    Definir um peso para cada parâmetro"
      ]
    },
    {
      "cell_type": "markdown",
      "source": [
        "#### Calculando a soma de similaridades (simSum) e adicionando categorias de matches, potenciais e non-matches"
      ],
      "metadata": {
        "id": "PbEMi6fB1Z0d"
      }
    },
    {
      "cell_type": "code",
      "source": [
        "pares_df2 = pares_df.withColumn(\n",
        "    \"simSum\", col(\"nome_similaridade\") + col(\"cpf_similaridade\") + col(\"data_nasc_similaridade\")\n",
        ")"
      ],
      "metadata": {
        "id": "DCHt61yUBWXL"
      },
      "execution_count": 48,
      "outputs": []
    },
    {
      "cell_type": "code",
      "source": [
        "pares_df2.show(5, False)"
      ],
      "metadata": {
        "colab": {
          "base_uri": "https://localhost:8080/"
        },
        "id": "l7AVcO3vgcPh",
        "outputId": "c1b5aa7b-3bd3-4efd-e9d1-a567f1065ab3"
      },
      "execution_count": 49,
      "outputs": [
        {
          "output_type": "stream",
          "name": "stdout",
          "text": [
            "+-------------------------------+---------------+--------------+----------------------+----------+---------------------------------------------------------------------+-------------+--------+-----+------------------------------+-----------------------------+-----------------+--------------+----+------+--------+-----+----------------+-----------------+----------------------+------+\n",
            "|nome_completo                  |data_nascimento|cpf           |nome_mae              |celular   |email                                                                |telefone_fixo|nasc_mes|cpf_0|nome_completo_dados_medicos   |data_nascimento_dados_medicos|cpf_dados_medicos|tipo_sanguineo|peso|altura|nasc_mes|cpf_0|cpf_similaridade|nome_similaridade|data_nasc_similaridade|simSum|\n",
            "+-------------------------------+---------------+--------------+----------------------+----------+---------------------------------------------------------------------+-------------+--------+-----+------------------------------+-----------------------------+-----------------+--------------+----+------+--------+-----+----------------+-----------------+----------------------+------+\n",
            "|Cauã Isaac Caldeira            |1945-03-02     |350.835.281-18|Vitória Kamilly Sueli |98904-8340|cauaisaaccaldeira__cauaisaaccaldeira@hardquality.com.br              |2831-7237    |3       |3    |Cauã Isaac Caldeira           |1945-03-02                   |350.835.281-18   |A+            |54.0|1.68  |3       |3    |1               |1.0              |1                     |3.0   |\n",
            "|Lúcia Carolina Luzia Almada    |1946-11-11     |064.804.171-94|Stefany Teresinha     |99727-5887|luciacarolinaluziaalmada_@santarte.com                               |2744-6850    |11      |0    |Lúcia C Luzia Almada          |1900-11-11                   |064.804.171-94   |A-            |49.0|1.54  |11      |0    |1               |0.84             |1                     |2.84  |\n",
            "|Vicente Marcos Edson Castro    |1959-01-15     |721.921.584-32|Cecília Laura Larissa |99456-0743|vicentemarcosedsoncastro-74@lavorosjc.com.br                         |2858-1372    |1       |7    |Vicente Marcos Edson Castro   |1959-01-15                   |721.921.584-32   |A-            |65.0|1.88  |1       |7    |1               |1.0              |1                     |3.0   |\n",
            "|Yago Pedro Henrique da Cruz    |1945-10-24     |683.283.105-62|Cristiane Pietra      |98234-0551|yagopedrohenriquedacruz_@elevaconsultancy.com.br                     |2518-9906    |10      |6    |Yago Pedro Henrique Cruz      |1945-10-24                   |683.283.105-62   |O+            |57.0|1.63  |10      |6    |1               |0.94             |1                     |2.94  |\n",
            "|Valentina Stefany Alana Cardoso|1953-03-23     |762.984.237-61|Francisca Adriana     |99997-6430|valentinastefanyalanacardoso..valentinastefanyalanacardoso@galvao.com|2658-4091    |3       |7    |Valentina Stefany Alana Cardos|1953-03-23                   |762.984.237-61   |AB-           |71.0|1.64  |3       |7    |1               |0.98             |1                     |2.98  |\n",
            "+-------------------------------+---------------+--------------+----------------------+----------+---------------------------------------------------------------------+-------------+--------+-----+------------------------------+-----------------------------+-----------------+--------------+----+------+--------+-----+----------------+-----------------+----------------------+------+\n",
            "only showing top 5 rows\n",
            "\n"
          ]
        }
      ]
    },
    {
      "cell_type": "markdown",
      "source": [
        "#### Classificando os registros com base na simSum"
      ],
      "metadata": {
        "id": "KN-tKjPZ1hSj"
      }
    },
    {
      "cell_type": "code",
      "metadata": {
        "id": "tB8MkZ4Q3QPF"
      },
      "source": [
        "pares_df2 = pares_df2.withColumn(\n",
        "    \"categoria\",\n",
        "    when(col(\"simSum\") == 3, \"matches\")\n",
        "    .when((col(\"simSum\") >= 2) & (col(\"simSum\") < 3), \"potenciais\")\n",
        "    .otherwise(\"non_matches\")\n",
        ")"
      ],
      "execution_count": 50,
      "outputs": []
    },
    {
      "cell_type": "code",
      "source": [
        "pares_df2.show(5, False)"
      ],
      "metadata": {
        "colab": {
          "base_uri": "https://localhost:8080/"
        },
        "id": "g7tQeuW5gh4L",
        "outputId": "a7062d91-4e5c-4baf-be41-ba6cee0b91e1"
      },
      "execution_count": 51,
      "outputs": [
        {
          "output_type": "stream",
          "name": "stdout",
          "text": [
            "+-------------------------------+---------------+--------------+----------------------+----------+---------------------------------------------------------------------+-------------+--------+-----+------------------------------+-----------------------------+-----------------+--------------+----+------+--------+-----+----------------+-----------------+----------------------+------+----------+\n",
            "|nome_completo                  |data_nascimento|cpf           |nome_mae              |celular   |email                                                                |telefone_fixo|nasc_mes|cpf_0|nome_completo_dados_medicos   |data_nascimento_dados_medicos|cpf_dados_medicos|tipo_sanguineo|peso|altura|nasc_mes|cpf_0|cpf_similaridade|nome_similaridade|data_nasc_similaridade|simSum|categoria |\n",
            "+-------------------------------+---------------+--------------+----------------------+----------+---------------------------------------------------------------------+-------------+--------+-----+------------------------------+-----------------------------+-----------------+--------------+----+------+--------+-----+----------------+-----------------+----------------------+------+----------+\n",
            "|Cauã Isaac Caldeira            |1945-03-02     |350.835.281-18|Vitória Kamilly Sueli |98904-8340|cauaisaaccaldeira__cauaisaaccaldeira@hardquality.com.br              |2831-7237    |3       |3    |Cauã Isaac Caldeira           |1945-03-02                   |350.835.281-18   |A+            |54.0|1.68  |3       |3    |1               |1.0              |1                     |3.0   |matches   |\n",
            "|Lúcia Carolina Luzia Almada    |1946-11-11     |064.804.171-94|Stefany Teresinha     |99727-5887|luciacarolinaluziaalmada_@santarte.com                               |2744-6850    |11      |0    |Lúcia C Luzia Almada          |1900-11-11                   |064.804.171-94   |A-            |49.0|1.54  |11      |0    |1               |0.84             |1                     |2.84  |potenciais|\n",
            "|Vicente Marcos Edson Castro    |1959-01-15     |721.921.584-32|Cecília Laura Larissa |99456-0743|vicentemarcosedsoncastro-74@lavorosjc.com.br                         |2858-1372    |1       |7    |Vicente Marcos Edson Castro   |1959-01-15                   |721.921.584-32   |A-            |65.0|1.88  |1       |7    |1               |1.0              |1                     |3.0   |matches   |\n",
            "|Yago Pedro Henrique da Cruz    |1945-10-24     |683.283.105-62|Cristiane Pietra      |98234-0551|yagopedrohenriquedacruz_@elevaconsultancy.com.br                     |2518-9906    |10      |6    |Yago Pedro Henrique Cruz      |1945-10-24                   |683.283.105-62   |O+            |57.0|1.63  |10      |6    |1               |0.94             |1                     |2.94  |potenciais|\n",
            "|Valentina Stefany Alana Cardoso|1953-03-23     |762.984.237-61|Francisca Adriana     |99997-6430|valentinastefanyalanacardoso..valentinastefanyalanacardoso@galvao.com|2658-4091    |3       |7    |Valentina Stefany Alana Cardos|1953-03-23                   |762.984.237-61   |AB-           |71.0|1.64  |3       |7    |1               |0.98             |1                     |2.98  |potenciais|\n",
            "+-------------------------------+---------------+--------------+----------------------+----------+---------------------------------------------------------------------+-------------+--------+-----+------------------------------+-----------------------------+-----------------+--------------+----+------+--------+-----+----------------+-----------------+----------------------+------+----------+\n",
            "only showing top 5 rows\n",
            "\n"
          ]
        }
      ]
    },
    {
      "cell_type": "markdown",
      "source": [
        "#### Separando cada categoria em DataFrames distintos"
      ],
      "metadata": {
        "id": "FgIqODiA1o3m"
      }
    },
    {
      "cell_type": "code",
      "source": [
        "matches = pares_df2.filter(col(\"categoria\") == \"matches\")\n",
        "potenciais = pares_df2.filter(col(\"categoria\") == \"potenciais\")\n",
        "non_matches = pares_df2.filter(col(\"categoria\") == \"non_matches\")"
      ],
      "metadata": {
        "id": "ZQtl2aLWBaqf"
      },
      "execution_count": 52,
      "outputs": []
    },
    {
      "cell_type": "code",
      "source": [
        "matches.show(2, False)\n",
        "potenciais.show(2, False)\n",
        "non_matches.show(2, False)"
      ],
      "metadata": {
        "colab": {
          "base_uri": "https://localhost:8080/"
        },
        "id": "y1aSvmZGgxJ2",
        "outputId": "6795851d-1d61-4b9c-b467-dc3caa5017a8"
      },
      "execution_count": 53,
      "outputs": [
        {
          "output_type": "stream",
          "name": "stdout",
          "text": [
            "+---------------------------+---------------+--------------+----------------------+----------+-------------------------------------------------------+-------------+--------+-----+---------------------------+-----------------------------+-----------------+--------------+----+------+--------+-----+----------------+-----------------+----------------------+------+---------+\n",
            "|nome_completo              |data_nascimento|cpf           |nome_mae              |celular   |email                                                  |telefone_fixo|nasc_mes|cpf_0|nome_completo_dados_medicos|data_nascimento_dados_medicos|cpf_dados_medicos|tipo_sanguineo|peso|altura|nasc_mes|cpf_0|cpf_similaridade|nome_similaridade|data_nasc_similaridade|simSum|categoria|\n",
            "+---------------------------+---------------+--------------+----------------------+----------+-------------------------------------------------------+-------------+--------+-----+---------------------------+-----------------------------+-----------------+--------------+----+------+--------+-----+----------------+-----------------+----------------------+------+---------+\n",
            "|Cauã Isaac Caldeira        |1945-03-02     |350.835.281-18|Vitória Kamilly Sueli |98904-8340|cauaisaaccaldeira__cauaisaaccaldeira@hardquality.com.br|2831-7237    |3       |3    |Cauã Isaac Caldeira        |1945-03-02                   |350.835.281-18   |A+            |54.0|1.68  |3       |3    |1               |1.0              |1                     |3.0   |matches  |\n",
            "|Vicente Marcos Edson Castro|1959-01-15     |721.921.584-32|Cecília Laura Larissa |99456-0743|vicentemarcosedsoncastro-74@lavorosjc.com.br           |2858-1372    |1       |7    |Vicente Marcos Edson Castro|1959-01-15                   |721.921.584-32   |A-            |65.0|1.88  |1       |7    |1               |1.0              |1                     |3.0   |matches  |\n",
            "+---------------------------+---------------+--------------+----------------------+----------+-------------------------------------------------------+-------------+--------+-----+---------------------------+-----------------------------+-----------------+--------------+----+------+--------+-----+----------------+-----------------+----------------------+------+---------+\n",
            "only showing top 2 rows\n",
            "\n",
            "+---------------------------+---------------+--------------+------------------+----------+------------------------------------------------+-------------+--------+-----+---------------------------+-----------------------------+-----------------+--------------+----+------+--------+-----+----------------+-----------------+----------------------+------+----------+\n",
            "|nome_completo              |data_nascimento|cpf           |nome_mae          |celular   |email                                           |telefone_fixo|nasc_mes|cpf_0|nome_completo_dados_medicos|data_nascimento_dados_medicos|cpf_dados_medicos|tipo_sanguineo|peso|altura|nasc_mes|cpf_0|cpf_similaridade|nome_similaridade|data_nasc_similaridade|simSum|categoria |\n",
            "+---------------------------+---------------+--------------+------------------+----------+------------------------------------------------+-------------+--------+-----+---------------------------+-----------------------------+-----------------+--------------+----+------+--------+-----+----------------+-----------------+----------------------+------+----------+\n",
            "|Lúcia Carolina Luzia Almada|1946-11-11     |064.804.171-94|Stefany Teresinha |99727-5887|luciacarolinaluziaalmada_@santarte.com          |2744-6850    |11      |0    |Lúcia C Luzia Almada       |1900-11-11                   |064.804.171-94   |A-            |49.0|1.54  |11      |0    |1               |0.84             |1                     |2.84  |potenciais|\n",
            "|Yago Pedro Henrique da Cruz|1945-10-24     |683.283.105-62|Cristiane Pietra  |98234-0551|yagopedrohenriquedacruz_@elevaconsultancy.com.br|2518-9906    |10      |6    |Yago Pedro Henrique Cruz   |1945-10-24                   |683.283.105-62   |O+            |57.0|1.63  |10      |6    |1               |0.94             |1                     |2.94  |potenciais|\n",
            "+---------------------------+---------------+--------------+------------------+----------+------------------------------------------------+-------------+--------+-----+---------------------------+-----------------------------+-----------------+--------------+----+------+--------+-----+----------------+-----------------+----------------------+------+----------+\n",
            "only showing top 2 rows\n",
            "\n",
            "+---------------------------+---------------+--------------+------------------+----------+--------------------------------------------------------------------+-------------+--------+-----+---------------------------+-----------------------------+-----------------+--------------+----+------+--------+-----+----------------+-----------------+----------------------+------+-----------+\n",
            "|nome_completo              |data_nascimento|cpf           |nome_mae          |celular   |email                                                               |telefone_fixo|nasc_mes|cpf_0|nome_completo_dados_medicos|data_nascimento_dados_medicos|cpf_dados_medicos|tipo_sanguineo|peso|altura|nasc_mes|cpf_0|cpf_similaridade|nome_similaridade|data_nasc_similaridade|simSum|categoria  |\n",
            "+---------------------------+---------------+--------------+------------------+----------+--------------------------------------------------------------------+-------------+--------+-----+---------------------------+-----------------------------+-----------------+--------------+----+------+--------+-----+----------------+-----------------+----------------------+------+-----------+\n",
            "|Alexandre André Diego Silva|1991-05-11     |477.104.419-80|Gabrielly Betina  |98272-3454|alexandreandrediegosilva__alexandreandrediegosilva@gasparalmeida.com|2627-3162    |5       |4    |Alexandre A Diego Silva    |1991-11-05                   |477.104.419-80   |AB+           |73.0|1.67  |11      |4    |1               |0.86             |0                     |1.86  |non_matches|\n",
            "|Anthony Raimundo Corte Real|1944-06-18     |190.030.752-98|Carla Luzia Luana |98672-5932|anthonyraimundocortereal_@catsfeelings.com.br                       |2963-1907    |6       |1    |Anthoni Raimundo Corte Real|1900-01-01                   |190.030.752-98   |B+            |54.0|1.89  |1       |1    |1               |0.96             |0                     |1.96  |non_matches|\n",
            "+---------------------------+---------------+--------------+------------------+----------+--------------------------------------------------------------------+-------------+--------+-----+---------------------------+-----------------------------+-----------------+--------------+----+------+--------+-----+----------------+-----------------+----------------------+------+-----------+\n",
            "only showing top 2 rows\n",
            "\n"
          ]
        }
      ]
    },
    {
      "cell_type": "markdown",
      "source": [
        "#### Encontrando registros de dados_medicos que estão ausentes em matches"
      ],
      "metadata": {
        "id": "valeC_Uw1wbl"
      }
    },
    {
      "cell_type": "code",
      "source": [
        "matches_registros = matches.filter(col(\"categoria\") == \"matches\")  # Colunas de registro nos matches\n",
        "is_missing = dados_medicos_df.join(\n",
        "    matches_registros,\n",
        "    on=[\"nome_completo_dados_medicos\", \"cpf_dados_medicos\", \"data_nascimento_dados_medicos\"],\n",
        "    how=\"left_anti\"\n",
        ").select(\"nome_completo_dados_medicos\", \"data_nascimento_dados_medicos\", \"cpf_dados_medicos\")"
      ],
      "metadata": {
        "id": "1CSMiDYsBdCw"
      },
      "execution_count": 54,
      "outputs": []
    },
    {
      "cell_type": "code",
      "source": [
        "is_missing.count()"
      ],
      "metadata": {
        "colab": {
          "base_uri": "https://localhost:8080/"
        },
        "id": "hxbUBllwhtNM",
        "outputId": "5e44d118-b5ef-4208-88c9-e60147f3b3a6"
      },
      "execution_count": 55,
      "outputs": [
        {
          "output_type": "execute_result",
          "data": {
            "text/plain": [
              "7"
            ]
          },
          "metadata": {},
          "execution_count": 55
        }
      ]
    },
    {
      "cell_type": "markdown",
      "source": [
        "#### Exibindo uma amostra de potenciais com simSum == 2 para avaliação manual"
      ],
      "metadata": {
        "id": "C0K9MlHP13Jp"
      }
    },
    {
      "cell_type": "code",
      "source": [
        "potenciais_sample = potenciais.filter(col(\"simSum\") == 2).sample(0.1)  # 10% da amostra\n",
        "potenciais_sample.count()"
      ],
      "metadata": {
        "id": "eww11bBdBfGj",
        "colab": {
          "base_uri": "https://localhost:8080/"
        },
        "outputId": "3010265f-1049-4827-974c-05aadcd5253a"
      },
      "execution_count": 56,
      "outputs": [
        {
          "output_type": "execute_result",
          "data": {
            "text/plain": [
              "32"
            ]
          },
          "metadata": {},
          "execution_count": 56
        }
      ]
    },
    {
      "cell_type": "markdown",
      "source": [
        "#### Exibindo uma amostra de non_matches com simSum > 1.5 para avaliação manual"
      ],
      "metadata": {
        "id": "QVlnCWzD2A4Y"
      }
    },
    {
      "cell_type": "code",
      "source": [
        "non_matches_sample = non_matches.filter(col(\"simSum\") > 1.5).sample(0.1)\n",
        "non_matches_sample.count()"
      ],
      "metadata": {
        "id": "23jeC17kBhX5",
        "colab": {
          "base_uri": "https://localhost:8080/"
        },
        "outputId": "8cf65b53-4d55-408d-a8dd-edd5ce8d9db2"
      },
      "execution_count": 57,
      "outputs": [
        {
          "output_type": "execute_result",
          "data": {
            "text/plain": [
              "23"
            ]
          },
          "metadata": {},
          "execution_count": 57
        }
      ]
    },
    {
      "cell_type": "markdown",
      "metadata": {
        "id": "jQNgFY6-GO7o"
      },
      "source": [
        "## Exercício 6: Avaliação\n",
        "*     Buscar uma amostra das classificações (de 10 a 20 registros)\n",
        "*     Classificar cada uma em TP, TN, FP, FN\n",
        "*     Calcular acurácia, precisão e recall"
      ]
    },
    {
      "cell_type": "code",
      "metadata": {
        "id": "DJrHPn193FWe",
        "colab": {
          "base_uri": "https://localhost:8080/"
        },
        "outputId": "e3c9bc34-27f3-4daa-b5e1-bbb279a23c22"
      },
      "source": [
        "# Definir variáveis True Positive (TP), False Positive (FP), True Negative (TN), False Negative (FN) para métricas de avaliação\n",
        "TP = 10\n",
        "FP = 0\n",
        "TN = 2\n",
        "FN = 8\n",
        "\n",
        "# Calcular métricas de avaliação\n",
        "acuracia = (TP + TN) / (TP + FP + TN + FN)\n",
        "precisao = TP / (TP + FP) if TP + FP != 0 else 0\n",
        "recall = TP / (TP + FN) if TP + FN != 0 else 0\n",
        "fmeasure = (2 * precisao * recall) / (precisao + recall) if precisao + recall != 0 else 0\n",
        "\n",
        "# Exibir as métricas\n",
        "print(\"Acuracia: {:.2f}\".format(acuracia))\n",
        "print(\"Recall: {:.2f}\".format(recall))\n",
        "print(\"Precisão: {:.2f}\".format(precisao))\n",
        "print(\"F-measure: {:.2f}\".format(fmeasure))\n",
        "\n",
        "# Exibir as amostras para verificação\n",
        "potenciais_sample.show(5, truncate=False)\n",
        "non_matches_sample.show(5, truncate=False)"
      ],
      "execution_count": 58,
      "outputs": [
        {
          "output_type": "stream",
          "name": "stdout",
          "text": [
            "Acuracia: 0.60\n",
            "Recall: 0.56\n",
            "Precisão: 1.00\n",
            "F-measure: 0.71\n",
            "+------------------------------+---------------+--------------+-----------------------+----------+----------------------------------------------------------------------------+-------------+--------+-----+------------------------------+-----------------------------+-----------------+--------------+----+------+--------+-----+----------------+-----------------+----------------------+------+----------+\n",
            "|nome_completo                 |data_nascimento|cpf           |nome_mae               |celular   |email                                                                       |telefone_fixo|nasc_mes|cpf_0|nome_completo_dados_medicos   |data_nascimento_dados_medicos|cpf_dados_medicos|tipo_sanguineo|peso|altura|nasc_mes|cpf_0|cpf_similaridade|nome_similaridade|data_nasc_similaridade|simSum|categoria |\n",
            "+------------------------------+---------------+--------------+-----------------------+----------+----------------------------------------------------------------------------+-------------+--------+-----+------------------------------+-----------------------------+-----------------+--------------+----+------+--------+-----+----------------+-----------------+----------------------+------+----------+\n",
            "|Priscila Julia Márcia Baptista|2001-09-17     |721.598.013-80|Teresinha Renata Tânia |98554-2615|priscilajuliamarciabaptista_@validtecnologia.com.br                         |2703-1458    |9       |7    |Priscila Julia Márcia Baptista|1900-01-01                   |721.598.013-80   |AB+           |87.0|1.76  |1       |7    |1               |1.0              |0                     |2.0   |potenciais|\n",
            "|Nicolas José Gael Barbosa     |1980-08-04     |788.314.965-22|Raimunda Fabiana       |98806-1947|nicolasjosegaelbarbosa..nicolasjosegaelbarbosa@zignani.com.br               |2946-0067    |8       |7    |Nicolas José Gael Barbosa     |1900-01-01                   |788.314.965-22   |B-            |95.0|1.83  |1       |7    |1               |1.0              |0                     |2.0   |potenciais|\n",
            "|Sophia Alícia Eduarda Vieira  |1962-11-17     |710.055.619-82|Tereza Aline Lorena    |98460-9387|sophiaaliciaeduardavieira..sophiaaliciaeduardavieira@temavonfeccaosjc.com.br|2619-3321    |11      |7    |Sophia Alícia Eduarda Vieira  |1900-01-01                   |710.055.619-82   |O-            |82.0|1.76  |1       |7    |1               |1.0              |0                     |2.0   |potenciais|\n",
            "|Vanessa Fabiana Teixeira      |1986-05-08     |385.042.174-00|Bruna Bianca           |98487-6185|vanessafabianateixeira__vanessafabianateixeira@sitran.com.br                |2726-6075    |5       |3    |Vanessa Fabiana Teixeira      |1900-01-01                   |385.042.174-00   |AB-           |48.0|1.83  |1       |3    |1               |1.0              |0                     |2.0   |potenciais|\n",
            "|Alícia Bárbara Cavalcanti     |1992-05-16     |312.765.611-48|Emily Flávia Eliane    |99892-9042|aliciabarbaracavalcanti_@stetnet.com.br                                     |2677-9228    |5       |3    |Alícia Bárbara Cavalcanti     |1900-01-01                   |312.765.611-48   |A-            |55.0|1.58  |1       |3    |1               |1.0              |0                     |2.0   |potenciais|\n",
            "+------------------------------+---------------+--------------+-----------------------+----------+----------------------------------------------------------------------------+-------------+--------+-----+------------------------------+-----------------------------+-----------------+--------------+----+------+--------+-----+----------------+-----------------+----------------------+------+----------+\n",
            "only showing top 5 rows\n",
            "\n",
            "+--------------------------------+---------------+--------------+-------------------------+----------+----------------------------------------------------------------------+-------------+--------+-----+------------------------------+-----------------------------+-----------------+--------------+-----+------+--------+-----+----------------+-----------------+----------------------+---------+-----------+\n",
            "|nome_completo                   |data_nascimento|cpf           |nome_mae                 |celular   |email                                                                 |telefone_fixo|nasc_mes|cpf_0|nome_completo_dados_medicos   |data_nascimento_dados_medicos|cpf_dados_medicos|tipo_sanguineo|peso |altura|nasc_mes|cpf_0|cpf_similaridade|nome_similaridade|data_nasc_similaridade|simSum   |categoria  |\n",
            "+--------------------------------+---------------+--------------+-------------------------+----------+----------------------------------------------------------------------+-------------+--------+-----+------------------------------+-----------------------------+-----------------+--------------+-----+------+--------+-----+----------------+-----------------+----------------------+---------+-----------+\n",
            "|Larissa Carolina Bárbara da Luz |1992-12-10     |597.179.636-49|Luciana Manuela          |99611-7777|larissacarolinabarbaradaluz..larissacarolinabarbaradaluz@uninet.com.br|3513-1850    |12      |5    |Larissa Carolina Bárbara Luz  |1900-01-01                   |597.179.636-49   |A-            |72.0 |1.51  |1       |5    |1               |0.95             |0                     |1.95     |non_matches|\n",
            "|Antonio Albuquerque Silva       |1980-07-24     |587.624.238-19|Laura Albuquerque Cardoso|11998-9705|antonio.silva@gmail.com                                               |1135-4946    |7       |5    |Enzo Albuquerque Silva        |null                         |587.624.238-19   |A-            |14.0 |1.04  |null    |5    |1               |0.85             |0                     |1.85     |non_matches|\n",
            "|Camila Giovana Natália Rodrigues|1984-03-14     |613.560.102-45|Alessandra Sueli Laura   |99229-7833|camilagiovananataliarodrigues-73@technocut.com.br                     |3537-3157    |3       |6    |Camila Giovana Natália Rodrigu|1900-01-01                   |613.560.102-45   |B-            |73.0 |1.62  |1       |6    |1               |0.97             |0                     |1.97     |non_matches|\n",
            "|Antonio Albuquerque Silva       |1980-07-24     |587.624.238-19|Laura Albuquerque Cardoso|11998-9705|antonio.silva@gmail.com                                               |1135-4946    |7       |5    |Enzo Albuquerque Silva        |null                         |587.624.238-19   |A-            |14.0 |1.04  |null    |5    |1               |0.85             |0                     |1.85     |non_matches|\n",
            "|Murilo José Emanuel dos Santos  |1972-11-01     |940.434.201-70|Letícia Rafaela Natália  |98660-1405|mmurilojoseemanueldossantos@yazigi.com                                |3955-1110    |11      |9    |Murilo José Emanuel Santos    |1900-01-01                   |940.434.201-70   |A+            |100.0|1.8   |1       |9    |1               |0.93             |0                     |1.9300001|non_matches|\n",
            "+--------------------------------+---------------+--------------+-------------------------+----------+----------------------------------------------------------------------+-------------+--------+-----+------------------------------+-----------------------------+-----------------+--------------+-----+------+--------+-----+----------------+-----------------+----------------------+---------+-----------+\n",
            "only showing top 5 rows\n",
            "\n"
          ]
        }
      ]
    },
    {
      "cell_type": "markdown",
      "source": [
        "## Exercício 7: Revisão Manual (Clerical Review)\n",
        "\n",
        "Com a classificação feita, que alterações nos valores de threshold poderíamos fazer, para minimizar os matches potenciais e melhorar a avaliação do modelo??"
      ],
      "metadata": {
        "id": "HdAiXz7IlOwX"
      }
    },
    {
      "cell_type": "markdown",
      "source": [
        "### Resposta\n",
        "\n",
        "Na minha opinião, eu utilizei do join entre as duas bases para facilitar a união e realizar a classificação depois, vejo que isso ajudou muito, visto que antes tinhamos separado bloco por bloco e conseguimos ver que a regressão que fizemos ela foi longa e tivemos um resultado muito maior de combinações.\n",
        "\n",
        "Outro ponto que devemos classificar e melhorar a avaliação do modelo, são as possibilidades, temos sempre que avaliar o que iremos utilizar do match, se é cpf, mês, o nome (no caso do nome, temos muitas variações, mas podemos utilizar, depende de como, teriamos que refinar e analisar colocando caso a caso para sermos mais assertivos). Então diria isso, além das indexações, padronizações, sempre avaliar melhor o que iremos utilizar como classificação, se é bom o suficiente para termos alterações mais assertivas nos valores do threshold."
      ],
      "metadata": {
        "id": "vmP1YoJ3tg23"
      }
    }
  ]
}