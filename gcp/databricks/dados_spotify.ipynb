{
 "cells": [
  {
   "cell_type": "markdown",
   "metadata": {
    "application/vnd.databricks.v1+cell": {
     "cellMetadata": {
      "byteLimit": 2048000,
      "rowLimit": 10000
     },
     "inputWidgets": {},
     "nuid": "f415d0cf-dd97-4515-bb1f-b482252db1e1",
     "showTitle": false,
     "title": ""
    }
   },
   "source": [
    "# Obtendo informações de dados de música do Spotify"
   ]
  },
  {
   "cell_type": "markdown",
   "metadata": {
    "application/vnd.databricks.v1+cell": {
     "cellMetadata": {
      "byteLimit": 2048000,
      "rowLimit": 10000
     },
     "inputWidgets": {},
     "nuid": "c8f44f65-43af-420f-87f0-6575079206f4",
     "showTitle": false,
     "title": ""
    }
   },
   "source": [
    "## Dados open source\n",
    "\n",
    "O projeto foi desenvolvido com GCP e Databricks, utilizando Pyspark para manipulação dos arquivos.\n",
    "Nesse projeto, estamos realizando um ETL, obtendo informações sobre A API da Web do Spotify fornece uma ampla gama de funcionalidades para desenvolvedores.\n",
    "\n",
    "Até então, não é ideal utilizar spark para a pequena quantidade de dados, o ideial é acima de GB (Giga Bytes), mas é um projeto, visa trazer aprendizados da vida real, com conteúdo técnico.\n",
    "\n",
    "[Spotify API - Dados de música e reprodução](https://developer.spotify.com/)\n",
    "\n",
    "[API GET RECOMMENDATIONS](https://developer.spotify.com/documentation/web-api/reference/get-recommendations)\n",
    "\n",
    "[Documentação](https://developer.spotify.com/documentation/web-api/reference/get-recommendations)"
   ]
  },
  {
   "cell_type": "markdown",
   "metadata": {
    "application/vnd.databricks.v1+cell": {
     "cellMetadata": {
      "byteLimit": 2048000,
      "rowLimit": 10000
     },
     "inputWidgets": {},
     "nuid": "9159d0ce-b10e-496b-8d7a-0be98495ce95",
     "showTitle": false,
     "title": ""
    }
   },
   "source": [
    "## Configuração e Imports"
   ]
  },
  {
   "cell_type": "code",
   "execution_count": 0,
   "metadata": {
    "application/vnd.databricks.v1+cell": {
     "cellMetadata": {
      "byteLimit": 2048000,
      "rowLimit": 10000
     },
     "inputWidgets": {},
     "nuid": "13e9d421-06e3-4965-a838-b38a32397b51",
     "showTitle": true,
     "title": "Fixando váriaveis"
    }
   },
   "outputs": [],
   "source": [
    "dbutils.widgets.text(\"id_client\", \"your-id-client\")\n",
    "id_client = dbutils.widgets.get(\"id_client\")\n",
    "\n",
    "dbutils.widgets.text(\"secret_client\", \"your-id-secret\")\n",
    "secret_client = dbutils.widgets.get(\"secret_client\")\n",
    "\n",
    "dbutils.widgets.text(\"content_type\", \"application/x-www-form-urlencoded\")\n",
    "content_type = dbutils.widgets.get(\"content_type\")\n",
    "\n",
    "dbutils.widgets.text(\"grant_type\", \"client_credentials\")\n",
    "grant_type = dbutils.widgets.get(\"grant_type\")"
   ]
  },
  {
   "cell_type": "code",
   "execution_count": 0,
   "metadata": {
    "application/vnd.databricks.v1+cell": {
     "cellMetadata": {
      "byteLimit": 2048000,
      "rowLimit": 10000
     },
     "inputWidgets": {},
     "nuid": "e3a92eb4-0e8e-43a9-b678-484acaa16ff0",
     "showTitle": false,
     "title": ""
    }
   },
   "outputs": [],
   "source": [
    "import requests\n",
    "from pyspark.sql.functions import *"
   ]
  },
  {
   "cell_type": "markdown",
   "metadata": {
    "application/vnd.databricks.v1+cell": {
     "cellMetadata": {
      "byteLimit": 2048000,
      "rowLimit": 10000
     },
     "inputWidgets": {},
     "nuid": "99dfcf0c-0215-41cb-afb5-9f7ad13d5d31",
     "showTitle": false,
     "title": ""
    }
   },
   "source": [
    "# Solicitando token de acesso"
   ]
  },
  {
   "cell_type": "code",
   "execution_count": 0,
   "metadata": {
    "application/vnd.databricks.v1+cell": {
     "cellMetadata": {
      "byteLimit": 2048000,
      "rowLimit": 10000
     },
     "inputWidgets": {},
     "nuid": "d10aa911-ba92-4ecd-ae0f-f9af36e2bb72",
     "showTitle": false,
     "title": ""
    }
   },
   "outputs": [],
   "source": [
    "# URL da API do Spotify\n",
    "url = \"https://accounts.spotify.com/api/token\"\n",
    "\n",
    "# Dados do corpo da solicitação\n",
    "data = {\n",
    "    \"grant_type\": grant_type,\n",
    "    \"client_id\": id_client,\n",
    "    \"client_secret\": secret_client\n",
    "}\n",
    "\n",
    "response = requests.post(url, data=data)\n",
    "\n",
    "# Verificar o status da resposta\n",
    "if response.status_code == 200:\n",
    "    # A solicitação foi bem-sucedida\n",
    "    json_response = response.json()\n",
    "    access_token = json_response[\"access_token\"]\n",
    "    print(\"Access Token:\", access_token)\n",
    "else:\n",
    "    # A solicitação falhou\n",
    "    print(\"Falha na solicitação:\", response.text)\n"
   ]
  },
  {
   "cell_type": "markdown",
   "metadata": {
    "application/vnd.databricks.v1+cell": {
     "cellMetadata": {
      "byteLimit": 2048000,
      "rowLimit": 10000
     },
     "inputWidgets": {},
     "nuid": "26384d9a-863c-44d4-a5f5-39b143b1e68a",
     "showTitle": false,
     "title": ""
    }
   },
   "source": [
    "# Acessando API"
   ]
  },
  {
   "cell_type": "code",
   "execution_count": 0,
   "metadata": {
    "application/vnd.databricks.v1+cell": {
     "cellMetadata": {
      "byteLimit": 2048000,
      "rowLimit": 10000
     },
     "inputWidgets": {},
     "nuid": "02b66115-879d-4e6a-9558-749e02b68e73",
     "showTitle": false,
     "title": ""
    }
   },
   "outputs": [],
   "source": [
    "# Cabeçalhos da solicitação com o token de acesso\n",
    "url_api = \"https://api.spotify.com/v1/recommendations?seed_artists=4NHQUGzhtTLFvgF5SZesLK&seed_genres=rock%2Calternative%2Cpop&seed_tracks=0c6xIDDpzE81m2q797ordA\"\n",
    "headers = {\n",
    "    \"Authorization\": f\"Bearer {access_token}\",\n",
    "    \"Content-Type\": content_type\n",
    "}\n",
    "\n",
    "# Fazer a solicitação GET\n",
    "response_api = requests.get(url_api, headers=headers)\n",
    "\n",
    "# Verificar o status da resposta\n",
    "if response_api.status_code == 200:\n",
    "    # A solicitação foi bem-sucedida\n",
    "    json_response = response_api.json()\n",
    "    # Faça o processamento necessário nos dados da resposta\n",
    "    print(\"Solicitação com sucesso\")\n",
    "else:\n",
    "    # A solicitação falhou\n",
    "    print(\"Falha na solicitação:\", response_api.text)\n"
   ]
  },
  {
   "cell_type": "code",
   "execution_count": 0,
   "metadata": {
    "application/vnd.databricks.v1+cell": {
     "cellMetadata": {
      "byteLimit": 2048000,
      "rowLimit": 10000
     },
     "inputWidgets": {},
     "nuid": "b8213d22-679a-451a-9da2-39bea72d92a8",
     "showTitle": false,
     "title": ""
    }
   },
   "outputs": [],
   "source": [
    "json_response"
   ]
  },
  {
   "cell_type": "markdown",
   "metadata": {
    "application/vnd.databricks.v1+cell": {
     "cellMetadata": {
      "byteLimit": 2048000,
      "rowLimit": 10000
     },
     "inputWidgets": {},
     "nuid": "af86a9e9-38df-4d70-b6eb-c277f455c42e",
     "showTitle": false,
     "title": ""
    }
   },
   "source": [
    "# Transformando JSON em DataFrame"
   ]
  },
  {
   "cell_type": "code",
   "execution_count": 0,
   "metadata": {
    "application/vnd.databricks.v1+cell": {
     "cellMetadata": {
      "byteLimit": 2048000,
      "rowLimit": 10000
     },
     "inputWidgets": {},
     "nuid": "f4e1d3c0-b1c7-46dc-a70c-6780fb1826c2",
     "showTitle": false,
     "title": ""
    }
   },
   "outputs": [],
   "source": [
    "df = spark.createDataFrame([json_response])"
   ]
  },
  {
   "cell_type": "code",
   "execution_count": 0,
   "metadata": {
    "application/vnd.databricks.v1+cell": {
     "cellMetadata": {
      "byteLimit": 2048000,
      "rowLimit": 10000
     },
     "inputWidgets": {},
     "nuid": "a069be41-5f82-4dd8-8613-8e9fdd5b2773",
     "showTitle": false,
     "title": ""
    }
   },
   "outputs": [],
   "source": [
    "df.printSchema()"
   ]
  },
  {
   "cell_type": "code",
   "execution_count": 0,
   "metadata": {
    "application/vnd.databricks.v1+cell": {
     "cellMetadata": {
      "byteLimit": 2048000,
      "rowLimit": 10000
     },
     "inputWidgets": {},
     "nuid": "3a9ec029-4806-47cf-b759-3e2ec08d3ed0",
     "showTitle": false,
     "title": ""
    }
   },
   "outputs": [],
   "source": [
    "df.display()"
   ]
  },
  {
   "cell_type": "markdown",
   "metadata": {
    "application/vnd.databricks.v1+cell": {
     "cellMetadata": {},
     "inputWidgets": {},
     "nuid": "42b01d0f-0bf7-42d2-8ed7-1728debce2a4",
     "showTitle": false,
     "title": ""
    }
   },
   "source": [
    "# Tratando schema"
   ]
  },
  {
   "cell_type": "code",
   "execution_count": 0,
   "metadata": {
    "application/vnd.databricks.v1+cell": {
     "cellMetadata": {
      "byteLimit": 2048000,
      "rowLimit": 10000
     },
     "inputWidgets": {},
     "nuid": "be385055-e513-4763-9d5f-a8073266c5b0",
     "showTitle": false,
     "title": ""
    }
   },
   "outputs": [],
   "source": [
    "# Converter as colunas \"seeds\" e \"tracks\" em strings JSON\n",
    "df_json = df.selectExpr(\"to_json(seeds) AS seeds\", \"to_json(tracks) AS tracks\")\n",
    "\n",
    "# Transformar as colunas JSON em estruturas aninhadas\n",
    "df_struct = df_json.select(from_json(df_json.seeds, \"array<map<string, int>>\").alias(\"seeds\"),\n",
    "                           from_json(df_json.tracks, \"array<map<string, string>>\").alias(\"tracks\"))\n",
    "\n",
    "# Expandir os elementos das colunas \"seeds\" e \"tracks\" em linhas separadas\n",
    "df_seeds = df_struct.select(explode(df_struct.seeds).alias(\"seeds\"))\n",
    "df_tracks = df_struct.select(explode(df_struct.tracks).alias(\"tracks\"))\n",
    "\n",
    "df_seeds.display()\n",
    "df_tracks.display()"
   ]
  },
  {
   "cell_type": "code",
   "execution_count": 0,
   "metadata": {
    "application/vnd.databricks.v1+cell": {
     "cellMetadata": {
      "byteLimit": 2048000,
      "rowLimit": 10000
     },
     "inputWidgets": {},
     "nuid": "961e0609-d2f6-44d6-91ad-53439392979a",
     "showTitle": false,
     "title": ""
    }
   },
   "outputs": [],
   "source": [
    "seeds_keys = df_seeds.select(explode(map_keys(col(\"seeds\"))).alias(\"key\"))"
   ]
  },
  {
   "cell_type": "code",
   "execution_count": 0,
   "metadata": {
    "application/vnd.databricks.v1+cell": {
     "cellMetadata": {
      "byteLimit": 2048000,
      "rowLimit": 10000
     },
     "inputWidgets": {},
     "nuid": "4b9e128e-8c3e-4e97-aa9a-f317f707c1d9",
     "showTitle": false,
     "title": ""
    }
   },
   "outputs": [],
   "source": [
    "seeds_keys.display()"
   ]
  },
  {
   "cell_type": "code",
   "execution_count": 0,
   "metadata": {
    "application/vnd.databricks.v1+cell": {
     "cellMetadata": {
      "byteLimit": 2048000,
      "rowLimit": 10000
     },
     "inputWidgets": {},
     "nuid": "17226943-ec9a-4b35-b877-d0dfcc041bb9",
     "showTitle": false,
     "title": ""
    }
   },
   "outputs": [],
   "source": [
    "seeds_keys = df_seeds.select(explode(map_keys(col(\"seeds\"))).alias(\"key\"))\n",
    "\n",
    "tracks_keys = df_tracks.select(explode(map_keys(col(\"tracks\"))).alias(\"key\"))\n",
    "\n",
    "# Criar colunas individuais para cada chave nas colunas \"seeds\"\n",
    "for key_row in seeds_keys.collect():\n",
    "    key = key_row.key\n",
    "    df_seeds = df_seeds.withColumn(key, col(\"seeds\")[key])\n",
    "\n",
    "# Criar colunas individuais para cada chave nas colunas \"tracks\"\n",
    "for key_row in tracks_keys.collect():\n",
    "    key = key_row.key\n",
    "    df_tracks = df_tracks.withColumn(key, col(\"tracks\")[key])\n",
    "\n",
    "df_seeds.display()\n",
    "df_tracks.display()"
   ]
  },
  {
   "cell_type": "markdown",
   "metadata": {
    "application/vnd.databricks.v1+cell": {
     "cellMetadata": {},
     "inputWidgets": {},
     "nuid": "d3464daf-8c8b-468c-8cc0-72be17e80a00",
     "showTitle": false,
     "title": ""
    }
   },
   "source": [
    "# Excluindo colunas"
   ]
  },
  {
   "cell_type": "code",
   "execution_count": 0,
   "metadata": {
    "application/vnd.databricks.v1+cell": {
     "cellMetadata": {
      "byteLimit": 2048000,
      "rowLimit": 10000
     },
     "inputWidgets": {},
     "nuid": "a75a9149-0a64-4127-8e63-7ed3d32cc2f7",
     "showTitle": false,
     "title": ""
    }
   },
   "outputs": [],
   "source": [
    "df_seeds = df_seeds.drop(\"seeds\")\n",
    "df_tracks = df_tracks.drop(\"tracks\")"
   ]
  },
  {
   "cell_type": "markdown",
   "metadata": {
    "application/vnd.databricks.v1+cell": {
     "cellMetadata": {},
     "inputWidgets": {},
     "nuid": "137a863e-04ba-4e47-8570-060a0e31281b",
     "showTitle": false,
     "title": ""
    }
   },
   "source": [
    "# Alterando o nome das colunas de forma recursiva"
   ]
  },
  {
   "cell_type": "code",
   "execution_count": 0,
   "metadata": {
    "application/vnd.databricks.v1+cell": {
     "cellMetadata": {
      "byteLimit": 2048000,
      "rowLimit": 10000
     },
     "inputWidgets": {},
     "nuid": "8a7bb3f6-ce84-4599-8fda-de7d3ba6ac93",
     "showTitle": true,
     "title": "Primeira forma de fazer com mapping"
    }
   },
   "outputs": [],
   "source": [
    "sufixo = \"seeds_\"\n",
    "\n",
    "colunas_existentes = df_seeds.columns\n",
    "\n",
    "# dicionário para mapear as colunas existentes com os novos nomes\n",
    "mappings = {coluna: sufixo + coluna for coluna in colunas_existentes}\n",
    "\n",
    "# renomeando as colunas usando o dicionário de mapeamento\n",
    "df_seeds_renamed = df_seeds\n",
    "for coluna, novo_nome in mappings.items():\n",
    "    df_seeds_renamed = df_seeds_renamed.withColumnRenamed(coluna, novo_nome)\n",
    "\n",
    "df_seeds_renamed.display()"
   ]
  },
  {
   "cell_type": "code",
   "execution_count": 0,
   "metadata": {
    "application/vnd.databricks.v1+cell": {
     "cellMetadata": {
      "byteLimit": 2048000,
      "rowLimit": 10000
     },
     "inputWidgets": {},
     "nuid": "cbe7c28d-48f1-46e4-9881-23fcaaa47c15",
     "showTitle": true,
     "title": "Segunda forma de fazer apenas com uma iteração"
    }
   },
   "outputs": [],
   "source": [
    "sufixo = \"tracks_\"\n",
    "\n",
    "colunas = df_tracks.columns\n",
    "\n",
    "df_tracks_renamed = df_tracks\n",
    "for coluna in colunas:\n",
    "    novo_nome = sufixo + coluna\n",
    "    df_tracks_renamed = df_tracks_renamed.withColumnRenamed(coluna, novo_nome)\n",
    "\n",
    "df_tracks_renamed.display()"
   ]
  },
  {
   "cell_type": "markdown",
   "metadata": {
    "application/vnd.databricks.v1+cell": {
     "cellMetadata": {
      "byteLimit": 2048000,
      "rowLimit": 10000
     },
     "inputWidgets": {},
     "nuid": "4a70725f-ff6d-4391-9d5a-cd5979018556",
     "showTitle": false,
     "title": ""
    }
   },
   "source": [
    "# Salvando e criando uma tabela"
   ]
  },
  {
   "cell_type": "code",
   "execution_count": 0,
   "metadata": {
    "application/vnd.databricks.v1+cell": {
     "cellMetadata": {
      "byteLimit": 2048000,
      "rowLimit": 10000
     },
     "inputWidgets": {},
     "nuid": "a17d8490-8191-4e72-8eb4-371b5a61691e",
     "showTitle": false,
     "title": ""
    }
   },
   "outputs": [],
   "source": [
    "df_seeds_renamed.write.format(\"delta\").saveAsTable(\"spotify_recommendations_seeds\")"
   ]
  },
  {
   "cell_type": "markdown",
   "metadata": {
    "application/vnd.databricks.v1+cell": {
     "cellMetadata": {},
     "inputWidgets": {},
     "nuid": "ec0adabf-f5fd-4ccf-b235-53580c2fb670",
     "showTitle": false,
     "title": ""
    }
   },
   "source": [
    "# Criando um Database e salvando"
   ]
  },
  {
   "cell_type": "code",
   "execution_count": 0,
   "metadata": {
    "application/vnd.databricks.v1+cell": {
     "cellMetadata": {
      "byteLimit": 2048000,
      "rowLimit": 10000
     },
     "inputWidgets": {},
     "nuid": "9259a7c6-18fa-4bfc-9314-c95d4e458268",
     "showTitle": false,
     "title": ""
    }
   },
   "outputs": [],
   "source": [
    "spark.sql(\"CREATE DATABASE db_spotify\")"
   ]
  },
  {
   "cell_type": "code",
   "execution_count": 0,
   "metadata": {
    "application/vnd.databricks.v1+cell": {
     "cellMetadata": {
      "byteLimit": 2048000,
      "rowLimit": 10000
     },
     "inputWidgets": {},
     "nuid": "3b7a082f-b63a-49f8-a267-69c69910f1f6",
     "showTitle": false,
     "title": ""
    }
   },
   "outputs": [],
   "source": [
    "df_tracks_renamed.write.format(\"delta\").saveAsTable(\"db_spotify.recommendations_tracks\")"
   ]
  },
  {
   "cell_type": "markdown",
   "metadata": {
    "application/vnd.databricks.v1+cell": {
     "cellMetadata": {},
     "inputWidgets": {},
     "nuid": "d5bba353-7ed1-4b95-b717-f69f97a6fc36",
     "showTitle": false,
     "title": ""
    }
   },
   "source": [
    "# Renomeando tabela"
   ]
  },
  {
   "cell_type": "code",
   "execution_count": 0,
   "metadata": {
    "application/vnd.databricks.v1+cell": {
     "cellMetadata": {
      "byteLimit": 2048000,
      "rowLimit": 10000
     },
     "inputWidgets": {},
     "nuid": "ba475ece-d324-4d9b-859a-4236f4f402bc",
     "showTitle": false,
     "title": ""
    }
   },
   "outputs": [],
   "source": [
    "spark.sql(\"ALTER TABLE default.spotify_recommendations_seeds RENAME TO default.recommendations_seeds\")"
   ]
  },
  {
   "cell_type": "markdown",
   "metadata": {
    "application/vnd.databricks.v1+cell": {
     "cellMetadata": {},
     "inputWidgets": {},
     "nuid": "2c753b94-0196-4ceb-baed-dd6a33baf6cc",
     "showTitle": false,
     "title": ""
    }
   },
   "source": [
    "# Movendo tabela para outro database"
   ]
  },
  {
   "cell_type": "code",
   "execution_count": 0,
   "metadata": {
    "application/vnd.databricks.v1+cell": {
     "cellMetadata": {
      "byteLimit": 2048000,
      "implicitDf": true,
      "rowLimit": 10000
     },
     "inputWidgets": {},
     "nuid": "a37f496e-b2c4-4b28-9682-0eee8a8ad995",
     "showTitle": false,
     "title": ""
    }
   },
   "outputs": [],
   "source": [
    "%sql\n",
    "ALTER TABLE default.recommendations_seeds SET DBPROPERTIES (database = 'db_spotify')"
   ]
  },
  {
   "cell_type": "markdown",
   "metadata": {
    "application/vnd.databricks.v1+cell": {
     "cellMetadata": {},
     "inputWidgets": {},
     "nuid": "13162619-5cdf-44a1-96cf-86b800b4d579",
     "showTitle": false,
     "title": ""
    }
   },
   "source": [
    "# Apagando a tabela e criando no local correto"
   ]
  },
  {
   "cell_type": "code",
   "execution_count": 0,
   "metadata": {
    "application/vnd.databricks.v1+cell": {
     "cellMetadata": {
      "byteLimit": 2048000,
      "implicitDf": true,
      "rowLimit": 10000
     },
     "inputWidgets": {},
     "nuid": "126bea61-fb8f-480f-a392-624664bd94eb",
     "showTitle": false,
     "title": ""
    }
   },
   "outputs": [],
   "source": [
    "%sql\n",
    "DROP TABLE default.recommendations_seeds"
   ]
  },
  {
   "cell_type": "code",
   "execution_count": 0,
   "metadata": {
    "application/vnd.databricks.v1+cell": {
     "cellMetadata": {
      "byteLimit": 2048000,
      "rowLimit": 10000
     },
     "inputWidgets": {},
     "nuid": "2ff42fd3-3c06-40ad-b7e1-1d1db876a397",
     "showTitle": false,
     "title": ""
    }
   },
   "outputs": [],
   "source": [
    "df_seeds_renamed.write.format(\"delta\").saveAsTable(\"db_spotify.recommendations_seeds\")"
   ]
  },
  {
   "cell_type": "markdown",
   "metadata": {
    "application/vnd.databricks.v1+cell": {
     "cellMetadata": {},
     "inputWidgets": {},
     "nuid": "8f7f14bf-840d-462e-a3bf-88b6396b1578",
     "showTitle": false,
     "title": ""
    }
   },
   "source": [
    "# Realizando listagem de dados pelo Google Storage\n",
    "[Documentação Storage Google](https://docs.gcp.databricks.com/storage/gcs.html)"
   ]
  },
  {
   "cell_type": "code",
   "execution_count": 0,
   "metadata": {
    "application/vnd.databricks.v1+cell": {
     "cellMetadata": {},
     "inputWidgets": {},
     "nuid": "7d97ccc5-9458-43b0-a0ff-c52e4d8961d9",
     "showTitle": false,
     "title": ""
    }
   },
   "outputs": [],
   "source": []
  },
  {
   "cell_type": "markdown",
   "metadata": {
    "application/vnd.databricks.v1+cell": {
     "cellMetadata": {},
     "inputWidgets": {},
     "nuid": "86fe1f06-c467-4440-a054-e3341e3ecf90",
     "showTitle": false,
     "title": ""
    }
   },
   "source": [
    "# Rascunhos"
   ]
  },
  {
   "cell_type": "code",
   "execution_count": 0,
   "metadata": {
    "application/vnd.databricks.v1+cell": {
     "cellMetadata": {
      "byteLimit": 2048000,
      "rowLimit": 10000
     },
     "inputWidgets": {},
     "nuid": "b97b8ca8-5c4a-4fe3-bad3-f372f0e6a4ad",
     "showTitle": false,
     "title": ""
    }
   },
   "outputs": [],
   "source": [
    "# # Expandir os elementos da coluna em linhas separadas\n",
    "# df_exploded = df.select(explode(df.columns).alias(\"key\", \"value\"))\n",
    "# df_exploded.display()\n",
    "\n",
    "# # Converter as colunas \"seeds\" e \"tracks\" em literais\n",
    "# df_exploded = df_exploded.withColumn(\"key\", lit(df_exploded[\"key\"]))\n",
    "# df_exploded.display()\n",
    "\n",
    "# # Obter os valores de cada chave em uma coluna separada\n",
    "# df_transformed = df_exploded.groupBy(\"key\").pivot(\"key\").agg({\"value\": \"first\"})\n",
    "# df_transformed.display()"
   ]
  },
  {
   "cell_type": "code",
   "execution_count": 0,
   "metadata": {
    "application/vnd.databricks.v1+cell": {
     "cellMetadata": {
      "byteLimit": 2048000,
      "rowLimit": 10000
     },
     "inputWidgets": {},
     "nuid": "1ff5568e-a962-48e0-86e8-c29552dc0f02",
     "showTitle": false,
     "title": ""
    }
   },
   "outputs": [],
   "source": [
    "# # Expandir os elementos das colunas \"seeds\" e \"tracks\" em linhas separadas\n",
    "# df_seeds = df.select(explode(df.seeds).alias(\"seeds\"))\n",
    "# df_tracks = df.select(explode(df.tracks).alias(\"tracks\"))\n",
    "\n",
    "# # Obter os valores das chaves das colunas \"seeds\"\n",
    "# for key in df.select(\"seeds\").schema[\"seeds\"].dataType.elementType.elementType.keys():\n",
    "#     df_seeds = df_seeds.withColumn(key, col(\"seeds\")[key])\n",
    "\n",
    "# # Obter os valores das chaves das colunas \"tracks\"\n",
    "# for key in df.select(\"tracks\").schema[\"tracks\"].dataType.elementType.elementType.keys():\n",
    "#     df_tracks = df_tracks.withColumn(key, col(\"tracks\")[key])\n",
    "\n",
    "# # Aplicar a função pivot nas colunas \"seeds\" e \"tracks\"\n",
    "# df_seeds_transformed = df_seeds.groupBy().pivot(\"key1\").agg({\"key2\": \"first\"})\n",
    "# df_tracks_transformed = df_tracks.groupBy().pivot(\"track1\").agg({\"track2\": \"first\"})\n",
    "\n",
    "# # Exibir o resultado\n",
    "# df_seeds_transformed.display()\n",
    "# df_tracks_transformed.display()"
   ]
  },
  {
   "cell_type": "code",
   "execution_count": 0,
   "metadata": {
    "application/vnd.databricks.v1+cell": {
     "cellMetadata": {
      "byteLimit": 2048000,
      "rowLimit": 10000
     },
     "inputWidgets": {},
     "nuid": "ed007418-52df-4b4e-a884-deb692151519",
     "showTitle": false,
     "title": ""
    }
   },
   "outputs": [],
   "source": [
    "# # Expandir os elementos das colunas \"seeds\" e \"tracks\" em linhas separadas\n",
    "# df_seeds = df.select(explode(df.seeds).alias(\"seeds\"))\n",
    "# df_tracks = df.select(explode(df.tracks).alias(\"tracks\"))\n",
    "\n",
    "# # Obter as chaves das colunas \"seeds\"\n",
    "# seeds_keys = df.select(\"seeds\").schema[\"seeds\"].valueType.keyType\n",
    "\n",
    "# # Obter as chaves das colunas \"tracks\"\n",
    "# tracks_keys = df.select(\"tracks\").schema[\"tracks\"].valueType.keyType\n",
    "\n",
    "# # Criar colunas individuais para cada chave nas colunas \"seeds\"\n",
    "# for key in seeds_keys:\n",
    "#     df_seeds = df_seeds.withColumn(key, col(\"seeds\")[key])\n",
    "\n",
    "# # Criar colunas individuais para cada chave nas colunas \"tracks\"\n",
    "# for key in tracks_keys:\n",
    "#     df_tracks = df_tracks.withColumn(key, col(\"tracks\")[key])\n",
    "\n",
    "# # Exibir o resultado\n",
    "# df_seeds.display()\n",
    "# df_tracks.display()"
   ]
  },
  {
   "cell_type": "code",
   "execution_count": 0,
   "metadata": {
    "application/vnd.databricks.v1+cell": {
     "cellMetadata": {},
     "inputWidgets": {},
     "nuid": "bb3ef4c8-5c6f-4ab9-81e4-c003824e40aa",
     "showTitle": false,
     "title": ""
    }
   },
   "outputs": [],
   "source": []
  }
 ],
 "metadata": {
  "application/vnd.databricks.v1+notebook": {
   "dashboards": [],
   "language": "python",
   "notebookMetadata": {
    "mostRecentlyExecutedCommandWithImplicitDF": {
     "commandId": 779439311569958,
     "dataframes": [
      "_sqldf"
     ]
    },
    "pythonIndentUnit": 4,
    "widgetLayout": [
     {
      "breakBefore": false,
      "name": "content_type",
      "width": 199
     },
     {
      "breakBefore": false,
      "name": "grant_type",
      "width": 199
     },
     {
      "breakBefore": false,
      "name": "id_client",
      "width": 199
     },
     {
      "breakBefore": false,
      "name": "secret_client",
      "width": 199
     }
    ]
   },
   "notebookName": "dados_spotify",
   "widgets": {
    "content_type": {
     "currentValue": "application/x-www-form-urlencoded",
     "nuid": "bef6b2b0-c1ed-49bb-84f0-baeec94118c6",
     "widgetInfo": {
      "widgetType": "text",
      "defaultValue": "application/x-www-form-urlencoded",
      "label": null,
      "name": "content_type",
      "options": {
       "widgetType": "text",
       "validationRegex": null
      }
     }
    },
    "grant_type": {
     "currentValue": "client_credentials",
     "nuid": "027c22bf-b08f-4f9b-8ccb-e51b90884663",
     "widgetInfo": {
      "widgetType": "text",
      "defaultValue": "client_credentials",
      "label": null,
      "name": "grant_type",
      "options": {
       "widgetType": "text",
       "validationRegex": null
      }
     }
    },
    "id_client": {
     "currentValue": "a309ad2d121a4e428c20a40e12a889a0",
     "nuid": "5d8d06bd-5c32-407e-b045-bb9f9e6d66e1",
     "widgetInfo": {
      "widgetType": "text",
      "defaultValue": "a309ad2d121a4e428c20a40e12a889a0",
      "label": null,
      "name": "id_client",
      "options": {
       "widgetType": "text",
       "validationRegex": null
      }
     }
    },
    "secret_client": {
     "currentValue": "9834cc09610840ed86883fd3e48f3642",
     "nuid": "b8b5f779-eeab-41cd-81b1-7a27cf1ec336",
     "widgetInfo": {
      "widgetType": "text",
      "defaultValue": "9834cc09610840ed86883fd3e48f3642",
      "label": null,
      "name": "secret_client",
      "options": {
       "widgetType": "text",
       "validationRegex": null
      }
     }
    }
   }
  }
 },
 "nbformat": 4,
 "nbformat_minor": 0
}
